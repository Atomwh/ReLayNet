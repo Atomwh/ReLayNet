{
 "cells": [
  {
   "cell_type": "code",
   "execution_count": 1,
   "metadata": {
    "collapsed": false
   },
   "outputs": [
    {
     "name": "stderr",
     "output_type": "stream",
     "text": [
      "Using TensorFlow backend.\n"
     ]
    }
   ],
   "source": [
    "import keras\n",
    "from keras.layers import Activation\n",
    "from keras.layers import Conv2D, MaxPooling2D\n",
    "from keras.models import Model\n",
    "from keras.layers import Input\n",
    "from keras.layers import BatchNormalization\n",
    "from keras.layers import UpSampling2D\n",
    "from keras.layers import Concatenate\n",
    "from keras.layers import Lambda \n",
    "from keras.utils import to_categorical\n",
    "import tensorflow as tf\n",
    "\n",
    "from keras.layers import Reshape\n",
    "\n",
    "from keras import backend as K\n",
    "from keras import regularizers, optimizers\n"
   ]
  },
  {
   "cell_type": "code",
   "execution_count": 2,
   "metadata": {
    "collapsed": true
   },
   "outputs": [],
   "source": [
    "from keras.callbacks import ReduceLROnPlateau, CSVLogger,EarlyStopping,ModelCheckpoint\n"
   ]
  },
  {
   "cell_type": "code",
   "execution_count": 3,
   "metadata": {
    "collapsed": true
   },
   "outputs": [],
   "source": [
    "import scipy.io as scio\n",
    "import numpy as np    \n",
    "import os\n",
    "import matplotlib.pyplot as plt\n",
    "import math\n",
    "from scipy.misc import imsave\n",
    "from scipy import ndimage, misc\n",
    "from numpy import unravel_index\n",
    "from operator import sub"
   ]
  },
  {
   "cell_type": "code",
   "execution_count": 4,
   "metadata": {
    "collapsed": true
   },
   "outputs": [],
   "source": [
    "images = []\n",
    "for root, dirnames, filenames in os.walk(\"Dataset/Resized_train/\"):\n",
    "    for filename in filenames:\n",
    "        filepath = os.path.join(root, filename)\n",
    "        image = ndimage.imread(filepath, mode=\"L\")\n",
    "        images.append(image)"
   ]
  },
  {
   "cell_type": "code",
   "execution_count": 5,
   "metadata": {
    "collapsed": false
   },
   "outputs": [
    {
     "name": "stdout",
     "output_type": "stream",
     "text": [
      "(216, 64)\n"
     ]
    }
   ],
   "source": [
    "print (images[0].shape)\n"
   ]
  },
  {
   "cell_type": "code",
   "execution_count": 6,
   "metadata": {
    "collapsed": true
   },
   "outputs": [],
   "source": [
    "labels = np.load('resized_cropped_labeledimages.npy')\n",
    "labels_list = []\n",
    "for i in range(len(labels)):\n",
    "    labels_list.append(labels[i])"
   ]
  },
  {
   "cell_type": "code",
   "execution_count": 7,
   "metadata": {
    "collapsed": false
   },
   "outputs": [
    {
     "name": "stdout",
     "output_type": "stream",
     "text": [
      "(216, 64)\n"
     ]
    }
   ],
   "source": [
    "print(labels_list[0].shape)"
   ]
  },
  {
   "cell_type": "code",
   "execution_count": 8,
   "metadata": {
    "collapsed": false
   },
   "outputs": [
    {
     "data": {
      "text/plain": [
       "0.0"
      ]
     },
     "execution_count": 8,
     "metadata": {},
     "output_type": "execute_result"
    }
   ],
   "source": [
    "labels_list[0][0][0]"
   ]
  },
  {
   "cell_type": "code",
   "execution_count": 9,
   "metadata": {
    "collapsed": true
   },
   "outputs": [],
   "source": [
    "train_labels = np.zeros((770,216,64,8))"
   ]
  },
  {
   "cell_type": "code",
   "execution_count": 10,
   "metadata": {
    "collapsed": true
   },
   "outputs": [],
   "source": [
    "for i in range(len(labels_list)) :\n",
    "    for j in range(216) :\n",
    "        for k in range(64):\n",
    "            if(labels_list[i][j][k] == 0):\n",
    "                train_labels[i][j][k][0] = 1\n",
    "            if(labels_list[i][j][k] == 1):\n",
    "                train_labels[i][j][k][1] = 1\n",
    "            if(labels_list[i][j][k] == 2):\n",
    "                train_labels[i][j][k][2] = 1\n",
    "            if(labels_list[i][j][k] == 3):\n",
    "                train_labels[i][j][k][3] = 1\n",
    "            if(labels_list[i][j][k] == 4):\n",
    "                train_labels[i][j][k][4] = 1\n",
    "            if(labels_list[i][j][k] == 5):\n",
    "                train_labels[i][j][k][5] = 1\n",
    "            if(labels_list[i][j][k] == 6):\n",
    "                train_labels[i][j][k][6] = 1\n",
    "            if(labels_list[i][j][k] == 7):\n",
    "                train_labels[i][j][k][7] = 1"
   ]
  },
  {
   "cell_type": "code",
   "execution_count": 11,
   "metadata": {
    "collapsed": false
   },
   "outputs": [
    {
     "data": {
      "text/plain": [
       "(770, 216, 64, 8)"
      ]
     },
     "execution_count": 11,
     "metadata": {},
     "output_type": "execute_result"
    }
   ],
   "source": [
    "train_labels.shape"
   ]
  },
  {
   "cell_type": "code",
   "execution_count": 12,
   "metadata": {
    "collapsed": false
   },
   "outputs": [
    {
     "data": {
      "text/plain": [
       "array([ 1.,  0.,  0.,  0.,  0.,  0.,  0.,  0.])"
      ]
     },
     "execution_count": 12,
     "metadata": {},
     "output_type": "execute_result"
    }
   ],
   "source": [
    "train_labels[0][0][0]"
   ]
  },
  {
   "cell_type": "code",
   "execution_count": 13,
   "metadata": {
    "collapsed": false
   },
   "outputs": [
    {
     "name": "stdout",
     "output_type": "stream",
     "text": [
      "770\n",
      "(216, 64, 1)\n",
      "[0, 2, 3, 4, 5, 6, 7, 10, 12, 16, 19, 20, 21, 23, 24, 26, 29, 32, 35, 36, 37, 38, 39, 40, 42, 44, 45, 47, 48, 49, 50, 51, 53, 56, 57, 59, 60, 61, 62, 65, 66, 67, 72, 73, 75, 76, 77, 78, 80, 81, 83, 85, 87, 88, 89, 90, 91, 92, 93, 94, 95, 97, 98, 99, 100, 101, 104, 105, 107, 109, 111, 114, 115, 117, 118, 121, 122, 123, 124, 130, 131, 133, 134, 135, 137, 139, 141, 142, 143, 144, 145, 147, 148, 149, 150, 151, 152, 153, 154, 155, 156, 157, 158, 159, 162, 163, 164, 165, 166, 167, 168, 171, 172, 173, 174, 177, 178, 180, 182, 184, 185, 186, 187, 189, 190, 191, 193, 194, 196, 197, 198, 200, 204, 205, 206, 209, 210, 212, 213, 214, 215, 216, 219, 220, 221, 222, 223, 224, 225, 226, 227, 229, 230, 233, 234, 235, 238, 239, 240, 243, 248, 252, 255, 256, 258, 260, 261, 263, 264, 265, 266, 268, 269, 270, 273, 274, 276, 277, 279, 285, 286, 287, 288, 289, 290, 291, 292, 296, 297, 298, 300, 303, 304, 305, 306, 308, 309, 311, 312, 314, 316, 317, 319, 320, 322, 323, 325, 331, 333, 334, 335, 336, 338, 339, 340, 342, 343, 344, 347, 350, 351, 354, 355, 356, 357, 358, 360, 362, 363, 365, 366, 369, 370, 371, 375, 376, 378, 380, 381, 382, 383, 384, 386, 387, 389, 392, 393, 394, 395, 396, 400, 402, 405, 406, 408, 409, 410, 414, 416, 417, 418, 419, 422, 424, 425, 426, 427, 429, 433, 434, 436, 437, 441, 442, 443, 444, 445, 447, 448, 449, 450, 452, 453, 454, 455, 456, 458, 459, 460, 463, 466, 467, 469, 470, 471, 472, 473, 475, 476, 479, 480, 483, 486, 487, 488, 490, 493, 494, 495, 496, 497, 501, 502, 503, 505, 506, 507, 509, 511, 512, 514, 515, 516, 517, 518, 519, 520, 521, 522, 524, 525, 526, 527, 528, 529, 530, 531, 532, 533, 534, 535, 537, 539, 540, 541, 543, 546, 549, 550, 551, 552, 553, 554, 559, 560, 561, 564, 565, 568, 570, 571, 575, 577, 578, 579, 580, 581, 582, 583, 586, 587, 588, 590, 591, 592, 593, 594, 595, 597, 598, 599, 602, 603, 604, 607, 608, 609, 610, 611, 612, 614, 615, 616, 617, 619, 620, 621, 623, 624, 625, 626, 627, 630, 631, 632, 633, 634, 635, 637, 639, 640, 641, 642, 644, 645, 647, 648, 649, 651, 652, 653, 654, 655, 656, 657, 658, 659, 661, 662, 663, 664, 665, 666, 668, 670, 671, 672, 673, 674, 676, 677, 678, 679, 681, 683, 687, 689, 690, 691, 695, 696, 697, 699, 701, 704, 705, 707, 708, 709, 710, 711, 712, 713, 717, 718, 719, 721, 722, 723, 724, 725, 728, 729, 730, 732, 733, 735, 736, 737, 738, 739, 740, 741, 742, 744, 746, 748, 749, 750, 751, 754, 757, 758, 759, 760, 761, 764, 765, 768, 769]\n",
      "[1, 8, 9, 11, 13, 14, 15, 17, 18, 22, 25, 27, 28, 30, 31, 33, 34, 41, 43, 46, 52, 54, 55, 58, 63, 64, 68, 69, 70, 71, 74, 79, 82, 84, 86, 96, 102, 103, 106, 108, 110, 112, 113, 116, 119, 120, 125, 126, 127, 128, 129, 132, 136, 138, 140, 146, 160, 161, 169, 170, 175, 176, 179, 181, 183, 188, 192, 195, 199, 201, 202, 203, 207, 208, 211, 217, 218, 228, 231, 232, 236, 237, 241, 242, 244, 245, 246, 247, 249, 250, 251, 253, 254, 257, 259, 262, 267, 271, 272, 275, 278, 280, 281, 282, 283, 284, 293, 294, 295, 299, 301, 302, 307, 310, 313, 315, 318, 321, 324, 326, 327, 328, 329, 330, 332, 337, 341, 345, 346, 348, 349, 352, 353, 359, 361, 364, 367, 368, 372, 373, 374, 377, 379, 385, 388, 390, 391, 397, 398, 399, 401, 403, 404, 407, 411, 412, 413, 415, 420, 421, 423, 428, 430, 431, 432, 435, 438, 439, 440, 446, 451, 457, 461, 462, 464, 465, 468, 474, 477, 478, 481, 482, 484, 485, 489, 491, 492, 498, 499, 500, 504, 508, 510, 513, 523, 536, 538, 542, 544, 545, 547, 548, 555, 556, 557, 558, 562, 563, 566, 567, 569, 572, 573, 574, 576, 584, 585, 589, 596, 600, 601, 605, 606, 613, 618, 622, 628, 629, 636, 638, 643, 646, 650, 660, 667, 669, 675, 680, 682, 684, 685, 686, 688, 692, 693, 694, 698, 700, 702, 703, 706, 714, 715, 716, 720, 726, 727, 731, 734, 743, 745, 747, 752, 753, 755, 756, 762, 763, 766, 767]\n"
     ]
    }
   ],
   "source": [
    "images=np.array(images)\n",
    "print(images.shape[0])\n",
    "images = images.reshape(images.shape[0],216,64,1)\n",
    "\n",
    "print(images[0].shape)\n",
    "train_indices = np.random.choice(770,500,replace = False)\n",
    "print(sorted(train_indices))\n",
    "train_images_random = []\n",
    "train_labels_random = []\n",
    "\n",
    "for i in train_indices:\n",
    "    train_images_random.append(images[i])\n",
    "    train_labels_random.append(train_labels[i])\n",
    "\n",
    "test_indices = [x for x in range(770) if x not in train_indices]\n",
    "print(test_indices)\n",
    "test_images = []\n",
    "test_labels = []\n",
    "for i in test_indices:\n",
    "    test_images.append(images[i])\n",
    "    test_labels.append(train_labels[i])"
   ]
  },
  {
   "cell_type": "code",
   "execution_count": 14,
   "metadata": {
    "collapsed": true
   },
   "outputs": [],
   "source": [
    "train_images = np.array(train_images_random)\n",
    "train_labels = np.array(train_labels_random)\n",
    "test_images = np.array(test_images)\n",
    "test_labels = np.array(test_labels)"
   ]
  },
  {
   "cell_type": "code",
   "execution_count": 15,
   "metadata": {
    "collapsed": true
   },
   "outputs": [],
   "source": [
    "train_images = train_images.astype('float32')\n",
    "train_labels = train_labels.astype('float32')\n",
    "test_images = test_images.astype('float32')\n",
    "test_labels = test_labels.astype('float32')"
   ]
  },
  {
   "cell_type": "code",
   "execution_count": 16,
   "metadata": {
    "collapsed": false
   },
   "outputs": [
    {
     "name": "stdout",
     "output_type": "stream",
     "text": [
      "(500, 216, 64, 1)\n",
      "(270, 216, 64, 1)\n",
      "(500, 216, 64, 8)\n"
     ]
    }
   ],
   "source": [
    "print(train_images.shape)\n",
    "print(test_images.shape)\n",
    "print(train_labels.shape)"
   ]
  },
  {
   "cell_type": "code",
   "execution_count": 17,
   "metadata": {
    "collapsed": false
   },
   "outputs": [
    {
     "name": "stdout",
     "output_type": "stream",
     "text": [
      "[[[ 35.]\n",
      "  [ 44.]\n",
      "  [ 38.]\n",
      "  ..., \n",
      "  [ 41.]\n",
      "  [ 45.]\n",
      "  [ 36.]]\n",
      "\n",
      " [[ 22.]\n",
      "  [ 26.]\n",
      "  [ 21.]\n",
      "  ..., \n",
      "  [ 50.]\n",
      "  [ 52.]\n",
      "  [ 26.]]\n",
      "\n",
      " [[  0.]\n",
      "  [  0.]\n",
      "  [  0.]\n",
      "  ..., \n",
      "  [ 48.]\n",
      "  [ 45.]\n",
      "  [ 13.]]\n",
      "\n",
      " ..., \n",
      " [[ 60.]\n",
      "  [ 60.]\n",
      "  [ 57.]\n",
      "  ..., \n",
      "  [ 73.]\n",
      "  [ 72.]\n",
      "  [ 65.]]\n",
      "\n",
      " [[ 60.]\n",
      "  [ 52.]\n",
      "  [ 47.]\n",
      "  ..., \n",
      "  [ 72.]\n",
      "  [ 68.]\n",
      "  [ 62.]]\n",
      "\n",
      " [[ 60.]\n",
      "  [ 49.]\n",
      "  [ 44.]\n",
      "  ..., \n",
      "  [ 67.]\n",
      "  [ 63.]\n",
      "  [ 66.]]]\n"
     ]
    }
   ],
   "source": [
    "print(train_images[0])"
   ]
  },
  {
   "cell_type": "code",
   "execution_count": 17,
   "metadata": {
    "collapsed": false
   },
   "outputs": [
    {
     "name": "stdout",
     "output_type": "stream",
     "text": [
      "500\n",
      "500\n",
      "(500, 216, 64, 8)\n"
     ]
    }
   ],
   "source": [
    "print (len(train_images))\n",
    "print (len(train_labels))\n",
    "print (np.array(train_labels).shape)"
   ]
  },
  {
   "cell_type": "code",
   "execution_count": 18,
   "metadata": {
    "collapsed": false
   },
   "outputs": [
    {
     "data": {
      "text/plain": [
       "(500, 216, 64, 1)"
      ]
     },
     "execution_count": 18,
     "metadata": {},
     "output_type": "execute_result"
    }
   ],
   "source": [
    "train_images.shape"
   ]
  },
  {
   "cell_type": "code",
   "execution_count": 20,
   "metadata": {
    "collapsed": false
   },
   "outputs": [
    {
     "data": {
      "text/plain": [
       "500"
      ]
     },
     "execution_count": 20,
     "metadata": {},
     "output_type": "execute_result"
    }
   ],
   "source": [
    "len(train_images)"
   ]
  },
  {
   "cell_type": "code",
   "execution_count": 21,
   "metadata": {
    "collapsed": true
   },
   "outputs": [],
   "source": [
    "data_shape = 216*64"
   ]
  },
  {
   "cell_type": "code",
   "execution_count": 22,
   "metadata": {
    "collapsed": true
   },
   "outputs": [],
   "source": [
    "weight_decay = 0.0001"
   ]
  },
  {
   "cell_type": "code",
   "execution_count": 23,
   "metadata": {
    "collapsed": false
   },
   "outputs": [
    {
     "name": "stdout",
     "output_type": "stream",
     "text": [
      "_________________________________________________________________\n",
      "Layer (type)                 Output Shape              Param #   \n",
      "=================================================================\n",
      "input_1 (InputLayer)         (None, 216, 64, 1)        0         \n",
      "_________________________________________________________________\n",
      "conv2d_1 (Conv2D)            (None, 216, 64, 64)       640       \n",
      "_________________________________________________________________\n",
      "batch_normalization_1 (Batch (None, 216, 64, 64)       256       \n",
      "_________________________________________________________________\n",
      "activation_1 (Activation)    (None, 216, 64, 64)       0         \n",
      "_________________________________________________________________\n",
      "max_pooling2d_1 (MaxPooling2 (None, 108, 32, 64)       0         \n",
      "_________________________________________________________________\n",
      "conv2d_2 (Conv2D)            (None, 108, 32, 64)       36928     \n",
      "_________________________________________________________________\n",
      "batch_normalization_2 (Batch (None, 108, 32, 64)       256       \n",
      "_________________________________________________________________\n",
      "activation_2 (Activation)    (None, 108, 32, 64)       0         \n",
      "_________________________________________________________________\n",
      "max_pooling2d_2 (MaxPooling2 (None, 54, 16, 64)        0         \n",
      "_________________________________________________________________\n",
      "conv2d_3 (Conv2D)            (None, 54, 16, 64)        36928     \n",
      "_________________________________________________________________\n",
      "batch_normalization_3 (Batch (None, 54, 16, 64)        256       \n",
      "_________________________________________________________________\n",
      "activation_3 (Activation)    (None, 54, 16, 64)        0         \n",
      "_________________________________________________________________\n",
      "max_pooling2d_3 (MaxPooling2 (None, 27, 8, 64)         0         \n",
      "_________________________________________________________________\n",
      "conv2d_4 (Conv2D)            (None, 27, 8, 64)         36928     \n",
      "_________________________________________________________________\n",
      "batch_normalization_4 (Batch (None, 27, 8, 64)         256       \n",
      "_________________________________________________________________\n",
      "activation_4 (Activation)    (None, 27, 8, 64)         0         \n",
      "_________________________________________________________________\n",
      "up_sampling2d_1 (UpSampling2 (None, 54, 16, 64)        0         \n",
      "_________________________________________________________________\n",
      "concatenate_1 (Concatenate)  (None, 54, 16, 128)       0         \n",
      "_________________________________________________________________\n",
      "conv2d_5 (Conv2D)            (None, 54, 16, 64)        73792     \n",
      "_________________________________________________________________\n",
      "batch_normalization_5 (Batch (None, 54, 16, 64)        256       \n",
      "_________________________________________________________________\n",
      "activation_5 (Activation)    (None, 54, 16, 64)        0         \n",
      "_________________________________________________________________\n",
      "up_sampling2d_2 (UpSampling2 (None, 108, 32, 64)       0         \n",
      "_________________________________________________________________\n",
      "concatenate_2 (Concatenate)  (None, 108, 32, 128)      0         \n",
      "_________________________________________________________________\n",
      "conv2d_6 (Conv2D)            (None, 108, 32, 64)       73792     \n",
      "_________________________________________________________________\n",
      "batch_normalization_6 (Batch (None, 108, 32, 64)       256       \n",
      "_________________________________________________________________\n",
      "activation_6 (Activation)    (None, 108, 32, 64)       0         \n",
      "_________________________________________________________________\n",
      "Layer19 (UpSampling2D)       (None, 216, 64, 64)       0         \n",
      "_________________________________________________________________\n",
      "concatenate_3 (Concatenate)  (None, 216, 64, 128)      0         \n",
      "_________________________________________________________________\n",
      "conv2d_7 (Conv2D)            (None, 216, 64, 64)       73792     \n",
      "_________________________________________________________________\n",
      "batch_normalization_7 (Batch (None, 216, 64, 64)       256       \n",
      "_________________________________________________________________\n",
      "activation_7 (Activation)    (None, 216, 64, 64)       0         \n",
      "_________________________________________________________________\n",
      "conv2d_8 (Conv2D)            (None, 216, 64, 8)        520       \n",
      "_________________________________________________________________\n",
      "reshape_1 (Reshape)          (None, 13824, 8)          0         \n",
      "_________________________________________________________________\n",
      "activation_8 (Activation)    (None, 13824, 8)          0         \n",
      "=================================================================\n",
      "Total params: 335,112.0\n",
      "Trainable params: 334,216.0\n",
      "Non-trainable params: 896.0\n",
      "_________________________________________________________________\n"
     ]
    }
   ],
   "source": [
    "# Defines the input tensor\n",
    "inputs = Input(shape=(216,64,1))\n",
    "\n",
    "L1 = Conv2D(64,kernel_size=(3,3),padding = \"same\",kernel_regularizer=regularizers.l2(weight_decay))(inputs)\n",
    "L2 = BatchNormalization()(L1)\n",
    "L2 = Activation('relu')(L2)\n",
    "#L3 = Lambda(maxpool_1,output_shape = shape)(L2)\n",
    "L3 = MaxPooling2D(pool_size=(2,2))(L2)\n",
    "L4 = Conv2D(64,kernel_size=(3,3),padding = \"same\",kernel_regularizer=regularizers.l2(weight_decay))(L3)\n",
    "L5 = BatchNormalization()(L4)\n",
    "L5 = Activation('relu')(L5)\n",
    "#L6 = Lambda(maxpool_2,output_shape = shape)(L5)\n",
    "L6 = MaxPooling2D(pool_size=(2,2))(L5)\n",
    "L7 = Conv2D(64,kernel_size=(3,3),padding = \"same\",kernel_regularizer=regularizers.l2(weight_decay))(L6)\n",
    "L8 = BatchNormalization()(L7)\n",
    "L8 = Activation('relu')(L8)\n",
    "#L9 = Lambda(maxpool_3,output_shape = shape)(L8)\n",
    "L9 = MaxPooling2D(pool_size=(2,2))(L8)\n",
    "L10 = Conv2D(64,kernel_size=(3,3),padding = \"same\",kernel_regularizer=regularizers.l2(weight_decay))(L9)\n",
    "L11 = BatchNormalization()(L10)\n",
    "L11 = Activation('relu')(L11)\n",
    "L12 = UpSampling2D(size = (2,2))(L11)\n",
    "#L12 = Lambda(unpool_3,output_shape = unpool_shape)(L11)\n",
    "L13 = Concatenate(axis = 3)([L8,L12])\n",
    "L14 = Conv2D(64,kernel_size=(3,3),padding = \"same\",kernel_regularizer=regularizers.l2(weight_decay))(L13)\n",
    "L15 = BatchNormalization()(L14)\n",
    "L15 = Activation('relu')(L15)\n",
    "L16 = UpSampling2D(size= (2,2))(L15)\n",
    "#L16 = Lambda(unpool_2,output_shape=unpool_shape)(L15)\n",
    "L17 = Concatenate(axis = 3)([L16,L5])\n",
    "L18 = Conv2D(64,kernel_size=(3,3),padding = \"same\",kernel_regularizer=regularizers.l2(weight_decay))(L17)\n",
    "L19 = BatchNormalization()(L18)\n",
    "L19 = Activation('relu')(L19)\n",
    "#L20 = Lambda(unpool_1,output_shape=unpool_shape)(L19)\n",
    "L20 = UpSampling2D(size=(2,2),name = \"Layer19\")(L19)\n",
    "L21 = Concatenate(axis=3)([L20,L2])\n",
    "L22 = Conv2D(64,kernel_size=(3,3),padding = \"same\",kernel_regularizer=regularizers.l2(weight_decay))(L21)\n",
    "L23 = BatchNormalization()(L22)\n",
    "L23 = Activation('relu')(L23)\n",
    "L24 = Conv2D(8,kernel_size=(1,1),padding = \"same\",kernel_regularizer=regularizers.l2(weight_decay))(L23)\n",
    "L = Reshape((data_shape,8),input_shape = (216,64,8))(L24)\n",
    "L = Activation('softmax')(L)\n",
    "model = Model(inputs = inputs, outputs = L)\n",
    "model.summary()"
   ]
  },
  {
   "cell_type": "code",
   "execution_count": 24,
   "metadata": {
    "collapsed": true
   },
   "outputs": [],
   "source": [
    "weights = np.load('weighted_cropped_images.npy')"
   ]
  },
  {
   "cell_type": "code",
   "execution_count": 25,
   "metadata": {
    "collapsed": false
   },
   "outputs": [
    {
     "data": {
      "text/plain": [
       "(770, 216, 64)"
      ]
     },
     "execution_count": 25,
     "metadata": {},
     "output_type": "execute_result"
    }
   ],
   "source": [
    "weights.shape"
   ]
  },
  {
   "cell_type": "code",
   "execution_count": 26,
   "metadata": {
    "collapsed": false
   },
   "outputs": [
    {
     "data": {
      "text/plain": [
       "1.0"
      ]
     },
     "execution_count": 26,
     "metadata": {},
     "output_type": "execute_result"
    }
   ],
   "source": [
    "weights[0][0][0]"
   ]
  },
  {
   "cell_type": "code",
   "execution_count": 27,
   "metadata": {
    "collapsed": false
   },
   "outputs": [
    {
     "data": {
      "text/plain": [
       "array([  1.   ,   4.336,   6.63 ,  12.007,  12.459,  14.647,  15.368,\n",
       "        17.978,  19.336,  21.63 ,  27.007,  27.459,  29.647,  30.368,\n",
       "        32.978])"
      ]
     },
     "execution_count": 27,
     "metadata": {},
     "output_type": "execute_result"
    }
   ],
   "source": [
    "np.unique(weights)"
   ]
  },
  {
   "cell_type": "code",
   "execution_count": 28,
   "metadata": {
    "collapsed": true
   },
   "outputs": [],
   "source": [
    "weights_matrix = []\n",
    "for i in train_indices:\n",
    "    weights_matrix.append(weights[i])"
   ]
  },
  {
   "cell_type": "code",
   "execution_count": 29,
   "metadata": {
    "collapsed": true
   },
   "outputs": [],
   "source": [
    "sample_weights = np.array(weights_matrix)"
   ]
  },
  {
   "cell_type": "code",
   "execution_count": 30,
   "metadata": {
    "collapsed": true
   },
   "outputs": [],
   "source": [
    "sample_weights = np.reshape(sample_weights,(500,data_shape))"
   ]
  },
  {
   "cell_type": "code",
   "execution_count": 31,
   "metadata": {
    "collapsed": false
   },
   "outputs": [
    {
     "data": {
      "text/plain": [
       "(500, 13824)"
      ]
     },
     "execution_count": 31,
     "metadata": {},
     "output_type": "execute_result"
    }
   ],
   "source": [
    "sample_weights.shape"
   ]
  },
  {
   "cell_type": "code",
   "execution_count": 32,
   "metadata": {
    "collapsed": false
   },
   "outputs": [
    {
     "data": {
      "text/plain": [
       "500"
      ]
     },
     "execution_count": 32,
     "metadata": {},
     "output_type": "execute_result"
    }
   ],
   "source": [
    "len(train_images)"
   ]
  },
  {
   "cell_type": "code",
   "execution_count": 33,
   "metadata": {
    "collapsed": false
   },
   "outputs": [
    {
     "data": {
      "text/plain": [
       "(500, 216, 64, 8)"
      ]
     },
     "execution_count": 33,
     "metadata": {},
     "output_type": "execute_result"
    }
   ],
   "source": [
    "train_labels.shape"
   ]
  },
  {
   "cell_type": "code",
   "execution_count": 34,
   "metadata": {
    "collapsed": true
   },
   "outputs": [],
   "source": [
    "train_labels = np.reshape(train_labels,(500,data_shape,8))\n",
    "test_labels = np.reshape(test_labels,(270,data_shape,8))"
   ]
  },
  {
   "cell_type": "code",
   "execution_count": 35,
   "metadata": {
    "collapsed": false
   },
   "outputs": [
    {
     "data": {
      "text/plain": [
       "(500, 13824, 8)"
      ]
     },
     "execution_count": 35,
     "metadata": {},
     "output_type": "execute_result"
    }
   ],
   "source": [
    "train_labels.shape"
   ]
  },
  {
   "cell_type": "code",
   "execution_count": 406,
   "metadata": {
    "collapsed": true
   },
   "outputs": [],
   "source": [
    "count = np.zeros(8)"
   ]
  },
  {
   "cell_type": "code",
   "execution_count": 407,
   "metadata": {
    "collapsed": true
   },
   "outputs": [],
   "source": [
    "for i in range(500):\n",
    "    for j in range(13824):\n",
    "        for k in range(8):\n",
    "            if(train_labels[i][j][k]==1):\n",
    "                count[k] = count[k]+1"
   ]
  },
  {
   "cell_type": "code",
   "execution_count": 408,
   "metadata": {
    "collapsed": false
   },
   "outputs": [
    {
     "name": "stdout",
     "output_type": "stream",
     "text": [
      "3972411.0\n",
      "312782.0\n",
      "605075.0\n",
      "341224.0\n",
      "263099.0\n",
      "920815.0\n",
      "274885.0\n",
      "221709.0\n"
     ]
    }
   ],
   "source": [
    "for i in range(8):\n",
    "    print(count[i])"
   ]
  },
  {
   "cell_type": "code",
   "execution_count": 409,
   "metadata": {
    "collapsed": false
   },
   "outputs": [
    {
     "data": {
      "text/plain": [
       "array([ 3972411.,   312782.,   605075.,   341224.,   263099.,   920815.,\n",
       "         274885.,   221709.])"
      ]
     },
     "execution_count": 409,
     "metadata": {},
     "output_type": "execute_result"
    }
   ],
   "source": [
    "count"
   ]
  },
  {
   "cell_type": "code",
   "execution_count": 410,
   "metadata": {
    "collapsed": false
   },
   "outputs": [],
   "source": [
    "median = np.median(count)"
   ]
  },
  {
   "cell_type": "code",
   "execution_count": 411,
   "metadata": {
    "collapsed": false
   },
   "outputs": [
    {
     "data": {
      "text/plain": [
       "327003.0"
      ]
     },
     "execution_count": 411,
     "metadata": {},
     "output_type": "execute_result"
    }
   ],
   "source": [
    "median"
   ]
  },
  {
   "cell_type": "code",
   "execution_count": 364,
   "metadata": {
    "collapsed": true
   },
   "outputs": [],
   "source": [
    "scale = np.zeros(8)"
   ]
  },
  {
   "cell_type": "code",
   "execution_count": 367,
   "metadata": {
    "collapsed": true
   },
   "outputs": [],
   "source": [
    "for i in range(8):\n",
    "    scale[i] = (median/count[i])"
   ]
  },
  {
   "cell_type": "code",
   "execution_count": 368,
   "metadata": {
    "collapsed": false
   },
   "outputs": [
    {
     "data": {
      "text/plain": [
       "array([ 0.08176891,  1.01882538,  0.54272503,  0.98185769,  1.25668549,\n",
       "        0.354605  ,  1.19773269,  1.47007454])"
      ]
     },
     "execution_count": 368,
     "metadata": {},
     "output_type": "execute_result"
    }
   ],
   "source": [
    "scale"
   ]
  },
  {
   "cell_type": "code",
   "execution_count": 369,
   "metadata": {
    "collapsed": true
   },
   "outputs": [],
   "source": [
    "weights = np.zeros(8)\n",
    "for i in range(8):\n",
    "    weights[i] = scale[i]/scale[0]"
   ]
  },
  {
   "cell_type": "code",
   "execution_count": 370,
   "metadata": {
    "collapsed": false
   },
   "outputs": [
    {
     "data": {
      "text/plain": [
       "array([  1.        ,  12.45981304,   6.63730261,  12.00771353,\n",
       "        15.36874386,   4.33667245,  14.6477755 ,  17.97840371])"
      ]
     },
     "execution_count": 370,
     "metadata": {},
     "output_type": "execute_result"
    }
   ],
   "source": [
    "weights"
   ]
  },
  {
   "cell_type": "code",
   "execution_count": 36,
   "metadata": {
    "collapsed": true
   },
   "outputs": [],
   "source": [
    "smooth = 1"
   ]
  },
  {
   "cell_type": "code",
   "execution_count": 37,
   "metadata": {
    "collapsed": true
   },
   "outputs": [],
   "source": [
    "def dice_coef(y_true, y_pred):\n",
    "    y_true_f = K.flatten(y_true)\n",
    "    y_pred_f = K.flatten(y_pred)\n",
    "    intersection = K.sum(y_true_f * y_pred_f)\n",
    "    return (2. * intersection + smooth) / (K.sum(y_true_f) + K.sum(y_pred_f) + smooth)\n"
   ]
  },
  {
   "cell_type": "code",
   "execution_count": 38,
   "metadata": {
    "collapsed": true
   },
   "outputs": [],
   "source": [
    "def dice_coef_loss(y_true, y_pred):\n",
    "    return -dice_coef(y_true, y_pred)"
   ]
  },
  {
   "cell_type": "code",
   "execution_count": 39,
   "metadata": {
    "collapsed": true
   },
   "outputs": [],
   "source": [
    "def customized_loss(y_true,y_pred):\n",
    "    return (1*K.categorical_crossentropy(y_true, y_pred))+(0.5*dice_coef_loss(y_true, y_pred))"
   ]
  },
  {
   "cell_type": "code",
   "execution_count": 40,
   "metadata": {
    "collapsed": true
   },
   "outputs": [],
   "source": [
    "optimiser = optimizers.Adam(lr = 0.001)"
   ]
  },
  {
   "cell_type": "code",
   "execution_count": 41,
   "metadata": {
    "collapsed": true
   },
   "outputs": [],
   "source": [
    "model.compile(optimizer=optimiser,loss=customized_loss,metrics=['accuracy',dice_coef],sample_weight_mode='temporal')"
   ]
  },
  {
   "cell_type": "code",
   "execution_count": 42,
   "metadata": {
    "collapsed": false
   },
   "outputs": [
    {
     "data": {
      "text/plain": [
       "(216, 64, 1)"
      ]
     },
     "execution_count": 42,
     "metadata": {},
     "output_type": "execute_result"
    }
   ],
   "source": [
    "train_images[0].shape"
   ]
  },
  {
   "cell_type": "code",
   "execution_count": 43,
   "metadata": {
    "collapsed": true
   },
   "outputs": [],
   "source": [
    "#Defining Callback functions which will be called by model during runtime when specified condition satisfies\n",
    "lr_reducer = ReduceLROnPlateau(factor=0.5, cooldown=0, patience=6, min_lr=0.5e-6)\n",
    "csv_logger = CSVLogger('Relaynet_sample_weights5.csv')\n",
    "model_chekpoint = ModelCheckpoint(\"Relaynet_sample_weights5.hdf5\",monitor = 'val_loss',verbose = 1,save_best_only=True)"
   ]
  },
  {
   "cell_type": "code",
   "execution_count": 44,
   "metadata": {
    "collapsed": false,
    "scrolled": false
   },
   "outputs": [
    {
     "name": "stdout",
     "output_type": "stream",
     "text": [
      "Train on 500 samples, validate on 270 samples\n",
      "Epoch 1/200\n",
      "480/500 [===========================>..] - ETA: 2s - loss: 67.6555 - acc: 0.4213 - dice_coef: 0.3711Epoch 00000: val_loss improved from inf to 15.28306, saving model to Relaynet_sample_weights5.hdf5\n",
      "500/500 [==============================] - 64s - loss: 67.3559 - acc: 0.4229 - dice_coef: 0.3733 - val_loss: 15.2831 - val_acc: 0.0517 - val_dice_coef: 0.0531\n",
      "Epoch 2/200\n",
      "480/500 [===========================>..] - ETA: 1s - loss: 62.3662 - acc: 0.4494 - dice_coef: 0.4260Epoch 00001: val_loss improved from 15.28306 to 13.74751, saving model to Relaynet_sample_weights5.hdf5\n",
      "500/500 [==============================] - 52s - loss: 62.2564 - acc: 0.4505 - dice_coef: 0.4273 - val_loss: 13.7475 - val_acc: 0.1853 - val_dice_coef: 0.1456\n",
      "Epoch 3/200\n",
      "480/500 [===========================>..] - ETA: 1s - loss: 60.1404 - acc: 0.4415 - dice_coef: 0.4294Epoch 00002: val_loss improved from 13.74751 to 11.16490, saving model to Relaynet_sample_weights5.hdf5\n",
      "500/500 [==============================] - 52s - loss: 60.2845 - acc: 0.4396 - dice_coef: 0.4278 - val_loss: 11.1649 - val_acc: 0.3235 - val_dice_coef: 0.3011\n",
      "Epoch 4/200\n",
      "480/500 [===========================>..] - ETA: 1s - loss: 59.8650 - acc: 0.4308 - dice_coef: 0.4246Epoch 00003: val_loss improved from 11.16490 to 10.87756, saving model to Relaynet_sample_weights5.hdf5\n",
      "500/500 [==============================] - 52s - loss: 59.7140 - acc: 0.4319 - dice_coef: 0.4257 - val_loss: 10.8776 - val_acc: 0.3317 - val_dice_coef: 0.3184\n",
      "Epoch 5/200\n",
      "480/500 [===========================>..] - ETA: 1s - loss: 59.5996 - acc: 0.4300 - dice_coef: 0.4248Epoch 00004: val_loss improved from 10.87756 to 9.93065, saving model to Relaynet_sample_weights5.hdf5\n",
      "500/500 [==============================] - 52s - loss: 59.5044 - acc: 0.4296 - dice_coef: 0.4244 - val_loss: 9.9306 - val_acc: 0.3863 - val_dice_coef: 0.3754\n",
      "Epoch 6/200\n",
      "480/500 [===========================>..] - ETA: 1s - loss: 58.9265 - acc: 0.4198 - dice_coef: 0.4161Epoch 00005: val_loss improved from 9.93065 to 9.14896, saving model to Relaynet_sample_weights5.hdf5\n",
      "500/500 [==============================] - 52s - loss: 58.8895 - acc: 0.4188 - dice_coef: 0.4151 - val_loss: 9.1490 - val_acc: 0.4307 - val_dice_coef: 0.4225\n",
      "Epoch 7/200\n",
      "480/500 [===========================>..] - ETA: 1s - loss: 58.3616 - acc: 0.4199 - dice_coef: 0.4168Epoch 00006: val_loss did not improve\n",
      "500/500 [==============================] - 52s - loss: 58.2464 - acc: 0.4201 - dice_coef: 0.4170 - val_loss: 11.0228 - val_acc: 0.3247 - val_dice_coef: 0.3097\n",
      "Epoch 8/200\n",
      "480/500 [===========================>..] - ETA: 1s - loss: 58.1843 - acc: 0.4236 - dice_coef: 0.4207Epoch 00007: val_loss did not improve\n",
      "500/500 [==============================] - 52s - loss: 58.2491 - acc: 0.4239 - dice_coef: 0.4210 - val_loss: 11.2553 - val_acc: 0.3068 - val_dice_coef: 0.2958\n",
      "Epoch 9/200\n",
      "480/500 [===========================>..] - ETA: 1s - loss: 57.8807 - acc: 0.4230 - dice_coef: 0.4204Epoch 00008: val_loss did not improve\n",
      "500/500 [==============================] - 52s - loss: 57.6051 - acc: 0.4244 - dice_coef: 0.4218 - val_loss: 9.4359 - val_acc: 0.4084 - val_dice_coef: 0.4053\n",
      "Epoch 10/200\n",
      "480/500 [===========================>..] - ETA: 1s - loss: 57.5624 - acc: 0.4200 - dice_coef: 0.4181Epoch 00009: val_loss improved from 9.14896 to 9.09512, saving model to Relaynet_sample_weights5.hdf5\n",
      "500/500 [==============================] - 52s - loss: 57.4922 - acc: 0.4204 - dice_coef: 0.4185 - val_loss: 9.0951 - val_acc: 0.4276 - val_dice_coef: 0.4258\n",
      "Epoch 11/200\n",
      "480/500 [===========================>..] - ETA: 1s - loss: 57.7249 - acc: 0.4241 - dice_coef: 0.4215Epoch 00010: val_loss improved from 9.09512 to 9.09494, saving model to Relaynet_sample_weights5.hdf5\n",
      "500/500 [==============================] - 52s - loss: 57.8570 - acc: 0.4239 - dice_coef: 0.4213 - val_loss: 9.0949 - val_acc: 0.4273 - val_dice_coef: 0.4259\n",
      "Epoch 12/200\n",
      "480/500 [===========================>..] - ETA: 1s - loss: 58.0289 - acc: 0.4214 - dice_coef: 0.4199Epoch 00011: val_loss did not improve\n",
      "500/500 [==============================] - 52s - loss: 57.8138 - acc: 0.4221 - dice_coef: 0.4204 - val_loss: 11.7293 - val_acc: 0.2636 - val_dice_coef: 0.2674\n",
      "Epoch 13/200\n",
      "480/500 [===========================>..] - ETA: 1s - loss: 57.4175 - acc: 0.4269 - dice_coef: 0.4249Epoch 00012: val_loss improved from 9.09494 to 8.93116, saving model to Relaynet_sample_weights5.hdf5\n",
      "500/500 [==============================] - 52s - loss: 57.4656 - acc: 0.4254 - dice_coef: 0.4234 - val_loss: 8.9312 - val_acc: 0.4379 - val_dice_coef: 0.4358\n",
      "Epoch 14/200\n",
      "480/500 [===========================>..] - ETA: 1s - loss: 57.2020 - acc: 0.4183 - dice_coef: 0.4164Epoch 00013: val_loss did not improve\n",
      "500/500 [==============================] - 52s - loss: 57.0644 - acc: 0.4188 - dice_coef: 0.4169 - val_loss: 9.4477 - val_acc: 0.4066 - val_dice_coef: 0.4048\n",
      "Epoch 15/200\n",
      "480/500 [===========================>..] - ETA: 1s - loss: 57.0710 - acc: 0.4281 - dice_coef: 0.4265Epoch 00014: val_loss improved from 8.93116 to 8.84024, saving model to Relaynet_sample_weights5.hdf5\n",
      "500/500 [==============================] - 52s - loss: 57.1774 - acc: 0.4270 - dice_coef: 0.4253 - val_loss: 8.8402 - val_acc: 0.4418 - val_dice_coef: 0.4414\n",
      "Epoch 16/200\n",
      "480/500 [===========================>..] - ETA: 1s - loss: 57.2943 - acc: 0.4168 - dice_coef: 0.4155Epoch 00015: val_loss improved from 8.84024 to 8.75868, saving model to Relaynet_sample_weights5.hdf5\n",
      "500/500 [==============================] - 52s - loss: 57.1806 - acc: 0.4183 - dice_coef: 0.4170 - val_loss: 8.7587 - val_acc: 0.4465 - val_dice_coef: 0.4463\n",
      "Epoch 17/200\n",
      "480/500 [===========================>..] - ETA: 1s - loss: 56.5020 - acc: 0.4254 - dice_coef: 0.4242Epoch 00016: val_loss did not improve\n",
      "500/500 [==============================] - 52s - loss: 56.6540 - acc: 0.4253 - dice_coef: 0.4242 - val_loss: 9.0978 - val_acc: 0.4259 - val_dice_coef: 0.4259\n",
      "Epoch 18/200\n",
      "480/500 [===========================>..] - ETA: 1s - loss: 56.7997 - acc: 0.4220 - dice_coef: 0.4206Epoch 00017: val_loss did not improve\n",
      "500/500 [==============================] - 52s - loss: 56.7562 - acc: 0.4227 - dice_coef: 0.4213 - val_loss: 9.2232 - val_acc: 0.4213 - val_dice_coef: 0.4184\n",
      "Epoch 19/200\n",
      "480/500 [===========================>..] - ETA: 1s - loss: 55.9671 - acc: 0.4284 - dice_coef: 0.4273Epoch 00018: val_loss did not improve\n",
      "500/500 [==============================] - 52s - loss: 56.2189 - acc: 0.4283 - dice_coef: 0.4272 - val_loss: 9.3552 - val_acc: 0.4109 - val_dice_coef: 0.4105\n",
      "Epoch 20/200\n",
      "480/500 [===========================>..] - ETA: 1s - loss: 55.7321 - acc: 0.4315 - dice_coef: 0.4299Epoch 00019: val_loss did not improve\n",
      "500/500 [==============================] - 52s - loss: 55.7457 - acc: 0.4324 - dice_coef: 0.4308 - val_loss: 8.8212 - val_acc: 0.4436 - val_dice_coef: 0.4427\n",
      "Epoch 21/200\n",
      "480/500 [===========================>..] - ETA: 1s - loss: 55.1098 - acc: 0.4312 - dice_coef: 0.4297Epoch 00020: val_loss did not improve\n",
      "500/500 [==============================] - 52s - loss: 55.1727 - acc: 0.4312 - dice_coef: 0.4297 - val_loss: 9.1142 - val_acc: 0.4257 - val_dice_coef: 0.4251\n",
      "Epoch 22/200\n",
      "480/500 [===========================>..] - ETA: 1s - loss: 55.9827 - acc: 0.4324 - dice_coef: 0.4313Epoch 00021: val_loss did not improve\n",
      "500/500 [==============================] - 52s - loss: 55.7641 - acc: 0.4326 - dice_coef: 0.4315 - val_loss: 9.3712 - val_acc: 0.4114 - val_dice_coef: 0.4097\n",
      "Epoch 23/200\n",
      "480/500 [===========================>..] - ETA: 1s - loss: 54.8664 - acc: 0.4378 - dice_coef: 0.4366Epoch 00022: val_loss did not improve\n",
      "500/500 [==============================] - 52s - loss: 55.0901 - acc: 0.4365 - dice_coef: 0.4353 - val_loss: 9.2828 - val_acc: 0.4154 - val_dice_coef: 0.4151\n",
      "Epoch 24/200\n",
      "480/500 [===========================>..] - ETA: 1s - loss: 54.1920 - acc: 0.4322 - dice_coef: 0.4312Epoch 00023: val_loss did not improve\n",
      "500/500 [==============================] - 52s - loss: 54.5244 - acc: 0.4315 - dice_coef: 0.4305 - val_loss: 9.1198 - val_acc: 0.4257 - val_dice_coef: 0.4249\n",
      "Epoch 25/200\n",
      "480/500 [===========================>..] - ETA: 1s - loss: 53.9082 - acc: 0.4418 - dice_coef: 0.4407Epoch 00024: val_loss did not improve\n",
      "500/500 [==============================] - 52s - loss: 53.6770 - acc: 0.4426 - dice_coef: 0.4416 - val_loss: 9.3598 - val_acc: 0.4111 - val_dice_coef: 0.4105\n",
      "Epoch 26/200\n",
      "480/500 [===========================>..] - ETA: 1s - loss: 53.1936 - acc: 0.4399 - dice_coef: 0.4384Epoch 00025: val_loss did not improve\n",
      "500/500 [==============================] - 52s - loss: 53.0083 - acc: 0.4399 - dice_coef: 0.4383 - val_loss: 9.1531 - val_acc: 0.4228 - val_dice_coef: 0.4229\n",
      "Epoch 27/200\n",
      "480/500 [===========================>..] - ETA: 1s - loss: 52.8629 - acc: 0.4478 - dice_coef: 0.4468Epoch 00026: val_loss did not improve\n",
      "500/500 [==============================] - 52s - loss: 52.8763 - acc: 0.4476 - dice_coef: 0.4465 - val_loss: 9.1833 - val_acc: 0.4218 - val_dice_coef: 0.4211\n",
      "Epoch 28/200\n",
      "480/500 [===========================>..] - ETA: 1s - loss: 52.1600 - acc: 0.4481 - dice_coef: 0.4468Epoch 00027: val_loss did not improve\n",
      "500/500 [==============================] - 52s - loss: 52.3599 - acc: 0.4475 - dice_coef: 0.4462 - val_loss: 9.1377 - val_acc: 0.4244 - val_dice_coef: 0.4239\n",
      "Epoch 29/200\n",
      "480/500 [===========================>..] - ETA: 1s - loss: 52.0332 - acc: 0.4486 - dice_coef: 0.4471Epoch 00028: val_loss did not improve\n",
      "500/500 [==============================] - 52s - loss: 52.0932 - acc: 0.4491 - dice_coef: 0.4477 - val_loss: 8.8124 - val_acc: 0.4445 - val_dice_coef: 0.4434\n",
      "Epoch 30/200\n",
      "480/500 [===========================>..] - ETA: 1s - loss: 50.7843 - acc: 0.4558 - dice_coef: 0.4542Epoch 00029: val_loss did not improve\n",
      "500/500 [==============================] - 52s - loss: 50.9163 - acc: 0.4565 - dice_coef: 0.4549 - val_loss: 9.2850 - val_acc: 0.4156 - val_dice_coef: 0.4150\n",
      "Epoch 31/200\n",
      "480/500 [===========================>..] - ETA: 1s - loss: 50.2160 - acc: 0.4589 - dice_coef: 0.4573Epoch 00030: val_loss did not improve\n",
      "500/500 [==============================] - 52s - loss: 50.2931 - acc: 0.4592 - dice_coef: 0.4576 - val_loss: 8.9379 - val_acc: 0.4368 - val_dice_coef: 0.4359\n",
      "Epoch 32/200\n",
      "480/500 [===========================>..] - ETA: 1s - loss: 49.7127 - acc: 0.4682 - dice_coef: 0.4665Epoch 00031: val_loss did not improve\n",
      "500/500 [==============================] - 52s - loss: 49.7199 - acc: 0.4681 - dice_coef: 0.4665 - val_loss: 9.3017 - val_acc: 0.4147 - val_dice_coef: 0.4140\n",
      "Epoch 33/200\n",
      "480/500 [===========================>..] - ETA: 1s - loss: 49.4189 - acc: 0.4694 - dice_coef: 0.4679Epoch 00032: val_loss did not improve\n",
      "500/500 [==============================] - 52s - loss: 49.4308 - acc: 0.4687 - dice_coef: 0.4671 - val_loss: 9.1197 - val_acc: 0.4258 - val_dice_coef: 0.4250\n",
      "Epoch 34/200\n",
      "480/500 [===========================>..] - ETA: 1s - loss: 49.1416 - acc: 0.4672 - dice_coef: 0.4653Epoch 00033: val_loss did not improve\n",
      "500/500 [==============================] - 52s - loss: 49.0648 - acc: 0.4676 - dice_coef: 0.4658 - val_loss: 9.1431 - val_acc: 0.4244 - val_dice_coef: 0.4236\n",
      "Epoch 35/200\n",
      "480/500 [===========================>..] - ETA: 1s - loss: 48.8264 - acc: 0.4700 - dice_coef: 0.4682Epoch 00034: val_loss did not improve\n",
      "500/500 [==============================] - 52s - loss: 48.8811 - acc: 0.4699 - dice_coef: 0.4681 - val_loss: 9.3053 - val_acc: 0.4145 - val_dice_coef: 0.4138\n",
      "Epoch 36/200\n",
      "480/500 [===========================>..] - ETA: 1s - loss: 47.7506 - acc: 0.4770 - dice_coef: 0.4751Epoch 00035: val_loss did not improve\n",
      "500/500 [==============================] - 52s - loss: 47.7038 - acc: 0.4774 - dice_coef: 0.4755 - val_loss: 8.9743 - val_acc: 0.4347 - val_dice_coef: 0.4337\n",
      "Epoch 37/200\n",
      "480/500 [===========================>..] - ETA: 1s - loss: 47.1305 - acc: 0.4821 - dice_coef: 0.4799Epoch 00036: val_loss did not improve\n",
      "500/500 [==============================] - 52s - loss: 47.3545 - acc: 0.4812 - dice_coef: 0.4790 - val_loss: 9.0125 - val_acc: 0.4323 - val_dice_coef: 0.4314\n",
      "Epoch 38/200\n",
      "480/500 [===========================>..] - ETA: 1s - loss: 47.0837 - acc: 0.4800 - dice_coef: 0.4778Epoch 00037: val_loss did not improve\n",
      "500/500 [==============================] - 53s - loss: 47.1045 - acc: 0.4790 - dice_coef: 0.4767 - val_loss: 8.7856 - val_acc: 0.4463 - val_dice_coef: 0.4451\n",
      "Epoch 39/200\n",
      "480/500 [===========================>..] - ETA: 1s - loss: 46.9735 - acc: 0.4839 - dice_coef: 0.4817Epoch 00038: val_loss did not improve\n",
      "500/500 [==============================] - 52s - loss: 46.8851 - acc: 0.4847 - dice_coef: 0.4825 - val_loss: 9.0393 - val_acc: 0.4310 - val_dice_coef: 0.4298\n",
      "Epoch 40/200\n",
      "480/500 [===========================>..] - ETA: 1s - loss: 46.7089 - acc: 0.4855 - dice_coef: 0.4833Epoch 00039: val_loss did not improve\n",
      "500/500 [==============================] - 52s - loss: 46.6959 - acc: 0.4856 - dice_coef: 0.4834 - val_loss: 8.9756 - val_acc: 0.4346 - val_dice_coef: 0.4337\n",
      "Epoch 41/200\n",
      "480/500 [===========================>..] - ETA: 1s - loss: 46.1725 - acc: 0.4875 - dice_coef: 0.4852Epoch 00040: val_loss did not improve\n",
      "500/500 [==============================] - 52s - loss: 46.2871 - acc: 0.4867 - dice_coef: 0.4844 - val_loss: 9.0886 - val_acc: 0.4278 - val_dice_coef: 0.4269\n",
      "Epoch 42/200\n",
      "480/500 [===========================>..] - ETA: 1s - loss: 45.8132 - acc: 0.4926 - dice_coef: 0.4903Epoch 00041: val_loss did not improve\n",
      "500/500 [==============================] - 52s - loss: 45.8104 - acc: 0.4925 - dice_coef: 0.4901 - val_loss: 9.0598 - val_acc: 0.4296 - val_dice_coef: 0.4286\n",
      "Epoch 43/200\n",
      "480/500 [===========================>..] - ETA: 1s - loss: 45.7005 - acc: 0.4872 - dice_coef: 0.4847Epoch 00042: val_loss did not improve\n",
      "500/500 [==============================] - 52s - loss: 45.5971 - acc: 0.4888 - dice_coef: 0.4863 - val_loss: 9.0045 - val_acc: 0.4332 - val_dice_coef: 0.4319\n",
      "Epoch 44/200\n",
      "480/500 [===========================>..] - ETA: 1s - loss: 45.5729 - acc: 0.4928 - dice_coef: 0.4902Epoch 00043: val_loss did not improve\n",
      "500/500 [==============================] - 52s - loss: 45.5050 - acc: 0.4931 - dice_coef: 0.4905 - val_loss: 9.0535 - val_acc: 0.4304 - val_dice_coef: 0.4290\n",
      "Epoch 45/200\n",
      "480/500 [===========================>..] - ETA: 1s - loss: 45.3719 - acc: 0.4927 - dice_coef: 0.4902Epoch 00044: val_loss did not improve\n",
      "500/500 [==============================] - 52s - loss: 45.3456 - acc: 0.4934 - dice_coef: 0.4909 - val_loss: 9.1031 - val_acc: 0.4273 - val_dice_coef: 0.4260\n",
      "Epoch 46/200\n",
      "480/500 [===========================>..] - ETA: 1s - loss: 45.4806 - acc: 0.4924 - dice_coef: 0.4899Epoch 00045: val_loss did not improve\n",
      "500/500 [==============================] - 52s - loss: 45.1330 - acc: 0.4938 - dice_coef: 0.4913 - val_loss: 9.0654 - val_acc: 0.4294 - val_dice_coef: 0.4283\n",
      "Epoch 47/200\n",
      "480/500 [===========================>..] - ETA: 1s - loss: 44.9631 - acc: 0.4977 - dice_coef: 0.4951Epoch 00046: val_loss did not improve\n",
      "500/500 [==============================] - 52s - loss: 45.0817 - acc: 0.4965 - dice_coef: 0.4940 - val_loss: 9.0130 - val_acc: 0.4325 - val_dice_coef: 0.4314\n",
      "Epoch 48/200\n",
      "480/500 [===========================>..] - ETA: 1s - loss: 44.8407 - acc: 0.4958 - dice_coef: 0.4932Epoch 00047: val_loss did not improve\n",
      "500/500 [==============================] - 52s - loss: 44.8862 - acc: 0.4957 - dice_coef: 0.4931 - val_loss: 9.0815 - val_acc: 0.4285 - val_dice_coef: 0.4273\n",
      "Epoch 49/200\n",
      "480/500 [===========================>..] - ETA: 1s - loss: 44.8099 - acc: 0.4965 - dice_coef: 0.4938Epoch 00048: val_loss did not improve\n",
      "500/500 [==============================] - 52s - loss: 44.7080 - acc: 0.4973 - dice_coef: 0.4947 - val_loss: 9.0343 - val_acc: 0.4314 - val_dice_coef: 0.4301\n",
      "Epoch 50/200\n",
      "480/500 [===========================>..] - ETA: 1s - loss: 44.3764 - acc: 0.4996 - dice_coef: 0.4970Epoch 00049: val_loss did not improve\n",
      "500/500 [==============================] - 52s - loss: 44.6555 - acc: 0.4988 - dice_coef: 0.4962 - val_loss: 9.0535 - val_acc: 0.4302 - val_dice_coef: 0.4290\n",
      "Epoch 51/200\n",
      "480/500 [===========================>..] - ETA: 1s - loss: 44.7436 - acc: 0.4978 - dice_coef: 0.4953Epoch 00050: val_loss did not improve\n",
      "500/500 [==============================] - 52s - loss: 44.5513 - acc: 0.4987 - dice_coef: 0.4961 - val_loss: 9.0476 - val_acc: 0.4306 - val_dice_coef: 0.4293\n",
      "Epoch 52/200\n",
      "480/500 [===========================>..] - ETA: 1s - loss: 44.6662 - acc: 0.5000 - dice_coef: 0.4972Epoch 00051: val_loss did not improve\n",
      "500/500 [==============================] - 52s - loss: 44.5141 - acc: 0.4997 - dice_coef: 0.4970 - val_loss: 9.1020 - val_acc: 0.4273 - val_dice_coef: 0.4261\n",
      "Epoch 53/200\n",
      "480/500 [===========================>..] - ETA: 1s - loss: 44.4993 - acc: 0.4989 - dice_coef: 0.4963Epoch 00052: val_loss did not improve\n",
      "500/500 [==============================] - 52s - loss: 44.4374 - acc: 0.4994 - dice_coef: 0.4968 - val_loss: 9.0522 - val_acc: 0.4302 - val_dice_coef: 0.4291\n",
      "Epoch 54/200\n",
      "480/500 [===========================>..] - ETA: 1s - loss: 44.3815 - acc: 0.4998 - dice_coef: 0.4971Epoch 00053: val_loss did not improve\n",
      "500/500 [==============================] - 52s - loss: 44.2667 - acc: 0.5000 - dice_coef: 0.4973 - val_loss: 9.0595 - val_acc: 0.4298 - val_dice_coef: 0.4286\n",
      "Epoch 55/200\n",
      "480/500 [===========================>..] - ETA: 1s - loss: 44.5924 - acc: 0.4994 - dice_coef: 0.4966Epoch 00054: val_loss did not improve\n",
      "500/500 [==============================] - 52s - loss: 44.3159 - acc: 0.5009 - dice_coef: 0.4981 - val_loss: 9.0333 - val_acc: 0.4315 - val_dice_coef: 0.4302\n",
      "Epoch 56/200\n",
      "480/500 [===========================>..] - ETA: 1s - loss: 44.1558 - acc: 0.5034 - dice_coef: 0.5007Epoch 00055: val_loss did not improve\n",
      "500/500 [==============================] - 52s - loss: 44.2588 - acc: 0.5021 - dice_coef: 0.4993 - val_loss: 9.0305 - val_acc: 0.4316 - val_dice_coef: 0.4304\n",
      "Epoch 57/200\n",
      "480/500 [===========================>..] - ETA: 1s - loss: 44.1971 - acc: 0.5012 - dice_coef: 0.4984Epoch 00056: val_loss did not improve\n",
      "500/500 [==============================] - 52s - loss: 44.2681 - acc: 0.5008 - dice_coef: 0.4980 - val_loss: 9.0650 - val_acc: 0.4295 - val_dice_coef: 0.4283\n",
      "Epoch 58/200\n",
      "480/500 [===========================>..] - ETA: 1s - loss: 44.0501 - acc: 0.5017 - dice_coef: 0.4990Epoch 00057: val_loss did not improve\n",
      "500/500 [==============================] - 52s - loss: 44.1510 - acc: 0.5015 - dice_coef: 0.4988 - val_loss: 9.0459 - val_acc: 0.4307 - val_dice_coef: 0.4294\n",
      "Epoch 59/200\n",
      "480/500 [===========================>..] - ETA: 1s - loss: 44.1775 - acc: 0.5015 - dice_coef: 0.4987Epoch 00058: val_loss did not improve\n",
      "500/500 [==============================] - 52s - loss: 44.1515 - acc: 0.5015 - dice_coef: 0.4987 - val_loss: 9.0791 - val_acc: 0.4288 - val_dice_coef: 0.4274\n",
      "Epoch 60/200\n",
      "480/500 [===========================>..] - ETA: 1s - loss: 44.0562 - acc: 0.5006 - dice_coef: 0.4979Epoch 00059: val_loss did not improve\n",
      "500/500 [==============================] - 52s - loss: 44.1337 - acc: 0.5011 - dice_coef: 0.4983 - val_loss: 9.0491 - val_acc: 0.4305 - val_dice_coef: 0.4292\n",
      "Epoch 61/200\n",
      "480/500 [===========================>..] - ETA: 1s - loss: 43.9101 - acc: 0.5043 - dice_coef: 0.5015Epoch 00060: val_loss did not improve\n",
      "500/500 [==============================] - 52s - loss: 44.0399 - acc: 0.5030 - dice_coef: 0.5004 - val_loss: 9.0527 - val_acc: 0.4303 - val_dice_coef: 0.4290\n",
      "Epoch 62/200\n",
      "480/500 [===========================>..] - ETA: 1s - loss: 44.3310 - acc: 0.5009 - dice_coef: 0.4982Epoch 00061: val_loss did not improve\n",
      "500/500 [==============================] - 52s - loss: 44.0786 - acc: 0.5023 - dice_coef: 0.4996 - val_loss: 9.0629 - val_acc: 0.4297 - val_dice_coef: 0.4284\n",
      "Epoch 63/200\n",
      "480/500 [===========================>..] - ETA: 1s - loss: 43.9838 - acc: 0.5035 - dice_coef: 0.5007Epoch 00062: val_loss did not improve\n",
      "500/500 [==============================] - 52s - loss: 44.0037 - acc: 0.5031 - dice_coef: 0.5003 - val_loss: 9.0656 - val_acc: 0.4296 - val_dice_coef: 0.4282\n",
      "Epoch 64/200\n",
      "480/500 [===========================>..] - ETA: 1s - loss: 43.9323 - acc: 0.5035 - dice_coef: 0.5007Epoch 00063: val_loss did not improve\n",
      "500/500 [==============================] - 52s - loss: 43.9608 - acc: 0.5028 - dice_coef: 0.5001 - val_loss: 9.0638 - val_acc: 0.4297 - val_dice_coef: 0.4284\n",
      "Epoch 65/200\n",
      "480/500 [===========================>..] - ETA: 1s - loss: 43.9377 - acc: 0.5027 - dice_coef: 0.5000Epoch 00064: val_loss did not improve\n",
      "500/500 [==============================] - 52s - loss: 43.9341 - acc: 0.5030 - dice_coef: 0.5003 - val_loss: 9.0520 - val_acc: 0.4304 - val_dice_coef: 0.4291\n",
      "Epoch 66/200\n",
      "480/500 [===========================>..] - ETA: 1s - loss: 43.9830 - acc: 0.5028 - dice_coef: 0.4999Epoch 00065: val_loss did not improve\n",
      "500/500 [==============================] - 52s - loss: 43.8799 - acc: 0.5040 - dice_coef: 0.5011 - val_loss: 9.0543 - val_acc: 0.4302 - val_dice_coef: 0.4289\n",
      "Epoch 67/200\n",
      "480/500 [===========================>..] - ETA: 1s - loss: 43.7585 - acc: 0.5049 - dice_coef: 0.5022Epoch 00066: val_loss did not improve\n",
      "500/500 [==============================] - 52s - loss: 44.0402 - acc: 0.5028 - dice_coef: 0.5001 - val_loss: 9.0569 - val_acc: 0.4301 - val_dice_coef: 0.4288\n",
      "Epoch 68/200\n",
      "480/500 [===========================>..] - ETA: 1s - loss: 44.3852 - acc: 0.5017 - dice_coef: 0.4989Epoch 00067: val_loss did not improve\n",
      "500/500 [==============================] - 52s - loss: 44.1106 - acc: 0.5021 - dice_coef: 0.4993 - val_loss: 9.0610 - val_acc: 0.4298 - val_dice_coef: 0.4285\n",
      "Epoch 69/200\n",
      "480/500 [===========================>..] - ETA: 1s - loss: 44.0747 - acc: 0.5020 - dice_coef: 0.4992Epoch 00068: val_loss did not improve\n",
      "500/500 [==============================] - 52s - loss: 44.0045 - acc: 0.5026 - dice_coef: 0.4998 - val_loss: 9.0577 - val_acc: 0.4300 - val_dice_coef: 0.4287\n",
      "Epoch 70/200\n",
      "480/500 [===========================>..] - ETA: 1s - loss: 43.8039 - acc: 0.5030 - dice_coef: 0.5004Epoch 00069: val_loss did not improve\n",
      "500/500 [==============================] - 52s - loss: 44.0429 - acc: 0.5021 - dice_coef: 0.4995 - val_loss: 9.0599 - val_acc: 0.4299 - val_dice_coef: 0.4286\n",
      "Epoch 71/200\n",
      "480/500 [===========================>..] - ETA: 1s - loss: 43.9116 - acc: 0.5035 - dice_coef: 0.5007Epoch 00070: val_loss did not improve\n",
      "500/500 [==============================] - 52s - loss: 43.9887 - acc: 0.5024 - dice_coef: 0.4996 - val_loss: 9.0704 - val_acc: 0.4292 - val_dice_coef: 0.4280\n",
      "Epoch 72/200\n",
      "480/500 [===========================>..] - ETA: 1s - loss: 43.8931 - acc: 0.5032 - dice_coef: 0.5004Epoch 00071: val_loss did not improve\n",
      "500/500 [==============================] - 52s - loss: 43.8951 - acc: 0.5032 - dice_coef: 0.5004 - val_loss: 9.0643 - val_acc: 0.4296 - val_dice_coef: 0.4283\n",
      "Epoch 73/200\n",
      "480/500 [===========================>..] - ETA: 1s - loss: 44.1265 - acc: 0.5022 - dice_coef: 0.4995Epoch 00072: val_loss did not improve\n",
      "500/500 [==============================] - 52s - loss: 43.9773 - acc: 0.5028 - dice_coef: 0.5001 - val_loss: 9.0613 - val_acc: 0.4298 - val_dice_coef: 0.4285\n",
      "Epoch 74/200\n",
      "480/500 [===========================>..] - ETA: 1s - loss: 44.1709 - acc: 0.5023 - dice_coef: 0.4997Epoch 00073: val_loss did not improve\n",
      "500/500 [==============================] - 52s - loss: 43.9024 - acc: 0.5031 - dice_coef: 0.5005 - val_loss: 9.0632 - val_acc: 0.4296 - val_dice_coef: 0.4284\n",
      "Epoch 75/200\n",
      "480/500 [===========================>..] - ETA: 1s - loss: 43.9211 - acc: 0.5036 - dice_coef: 0.5008Epoch 00074: val_loss did not improve\n",
      "500/500 [==============================] - 52s - loss: 43.8530 - acc: 0.5036 - dice_coef: 0.5008 - val_loss: 9.0593 - val_acc: 0.4299 - val_dice_coef: 0.4286\n",
      "Epoch 76/200\n",
      "480/500 [===========================>..] - ETA: 1s - loss: 43.9251 - acc: 0.5033 - dice_coef: 0.5005Epoch 00075: val_loss did not improve\n",
      "500/500 [==============================] - 52s - loss: 43.8995 - acc: 0.5033 - dice_coef: 0.5005 - val_loss: 9.0598 - val_acc: 0.4299 - val_dice_coef: 0.4286\n",
      "Epoch 77/200\n",
      "480/500 [===========================>..] - ETA: 1s - loss: 44.2562 - acc: 0.5006 - dice_coef: 0.4978Epoch 00076: val_loss did not improve\n",
      "500/500 [==============================] - 52s - loss: 44.0451 - acc: 0.5027 - dice_coef: 0.4999 - val_loss: 9.0601 - val_acc: 0.4299 - val_dice_coef: 0.4286\n",
      "Epoch 78/200\n",
      "480/500 [===========================>..] - ETA: 1s - loss: 43.8684 - acc: 0.5043 - dice_coef: 0.5015Epoch 00077: val_loss did not improve\n",
      "500/500 [==============================] - 52s - loss: 43.8725 - acc: 0.5034 - dice_coef: 0.5007 - val_loss: 9.0606 - val_acc: 0.4298 - val_dice_coef: 0.4285\n",
      "Epoch 79/200\n",
      "480/500 [===========================>..] - ETA: 1s - loss: 43.6265 - acc: 0.5045 - dice_coef: 0.5017Epoch 00078: val_loss did not improve\n",
      "500/500 [==============================] - 52s - loss: 43.8350 - acc: 0.5040 - dice_coef: 0.5011 - val_loss: 9.0597 - val_acc: 0.4299 - val_dice_coef: 0.4286\n",
      "Epoch 80/200\n",
      "480/500 [===========================>..] - ETA: 1s - loss: 43.9249 - acc: 0.5036 - dice_coef: 0.5007Epoch 00079: val_loss did not improve\n",
      "500/500 [==============================] - 52s - loss: 43.9347 - acc: 0.5032 - dice_coef: 0.5003 - val_loss: 9.0631 - val_acc: 0.4297 - val_dice_coef: 0.4284\n",
      "Epoch 81/200\n",
      "480/500 [===========================>..] - ETA: 1s - loss: 43.8944 - acc: 0.5039 - dice_coef: 0.5011Epoch 00080: val_loss did not improve\n",
      "500/500 [==============================] - 52s - loss: 43.8245 - acc: 0.5035 - dice_coef: 0.5007 - val_loss: 9.0635 - val_acc: 0.4297 - val_dice_coef: 0.4284\n",
      "Epoch 82/200\n",
      "480/500 [===========================>..] - ETA: 1s - loss: 44.2396 - acc: 0.5010 - dice_coef: 0.4982Epoch 00081: val_loss did not improve\n",
      "500/500 [==============================] - 52s - loss: 43.9771 - acc: 0.5027 - dice_coef: 0.5000 - val_loss: 9.0637 - val_acc: 0.4296 - val_dice_coef: 0.4284\n",
      "Epoch 83/200\n",
      "480/500 [===========================>..] - ETA: 1s - loss: 44.0351 - acc: 0.5024 - dice_coef: 0.4996Epoch 00082: val_loss did not improve\n",
      "500/500 [==============================] - 52s - loss: 43.9668 - acc: 0.5030 - dice_coef: 0.5002 - val_loss: 9.0622 - val_acc: 0.4297 - val_dice_coef: 0.4285\n",
      "Epoch 84/200\n",
      "480/500 [===========================>..] - ETA: 1s - loss: 44.0616 - acc: 0.5018 - dice_coef: 0.4990Epoch 00083: val_loss did not improve\n",
      "500/500 [==============================] - 52s - loss: 43.9202 - acc: 0.5030 - dice_coef: 0.5002 - val_loss: 9.0620 - val_acc: 0.4297 - val_dice_coef: 0.4285\n",
      "Epoch 85/200\n",
      "480/500 [===========================>..] - ETA: 1s - loss: 43.9859 - acc: 0.5019 - dice_coef: 0.4991Epoch 00084: val_loss did not improve\n",
      "500/500 [==============================] - 52s - loss: 43.9709 - acc: 0.5028 - dice_coef: 0.4999 - val_loss: 9.0615 - val_acc: 0.4298 - val_dice_coef: 0.4285\n",
      "Epoch 86/200\n",
      "480/500 [===========================>..] - ETA: 1s - loss: 43.6680 - acc: 0.5039 - dice_coef: 0.5011Epoch 00085: val_loss did not improve\n",
      "500/500 [==============================] - 52s - loss: 43.8766 - acc: 0.5036 - dice_coef: 0.5008 - val_loss: 9.0627 - val_acc: 0.4297 - val_dice_coef: 0.4284\n",
      "Epoch 87/200\n",
      "480/500 [===========================>..] - ETA: 1s - loss: 43.9117 - acc: 0.5031 - dice_coef: 0.5003Epoch 00086: val_loss did not improve\n",
      "500/500 [==============================] - 52s - loss: 43.8776 - acc: 0.5036 - dice_coef: 0.5008 - val_loss: 9.0626 - val_acc: 0.4297 - val_dice_coef: 0.4284\n",
      "Epoch 88/200\n",
      "480/500 [===========================>..] - ETA: 1s - loss: 43.9311 - acc: 0.5041 - dice_coef: 0.5013Epoch 00087: val_loss did not improve\n",
      "500/500 [==============================] - 52s - loss: 43.8571 - acc: 0.5039 - dice_coef: 0.5011 - val_loss: 9.0630 - val_acc: 0.4297 - val_dice_coef: 0.4284\n",
      "Epoch 89/200\n",
      "480/500 [===========================>..] - ETA: 1s - loss: 44.1568 - acc: 0.5024 - dice_coef: 0.4996Epoch 00088: val_loss did not improve\n",
      "500/500 [==============================] - 52s - loss: 43.7909 - acc: 0.5037 - dice_coef: 0.5009 - val_loss: 9.0625 - val_acc: 0.4297 - val_dice_coef: 0.4284\n",
      "Epoch 90/200\n",
      "480/500 [===========================>..] - ETA: 1s - loss: 43.5838 - acc: 0.5043 - dice_coef: 0.5015Epoch 00089: val_loss did not improve\n",
      "500/500 [==============================] - 52s - loss: 43.8531 - acc: 0.5034 - dice_coef: 0.5006 - val_loss: 9.0623 - val_acc: 0.4297 - val_dice_coef: 0.4284\n",
      "Epoch 91/200\n",
      "480/500 [===========================>..] - ETA: 1s - loss: 43.8708 - acc: 0.5041 - dice_coef: 0.5013Epoch 00090: val_loss did not improve\n",
      "500/500 [==============================] - 52s - loss: 43.8240 - acc: 0.5038 - dice_coef: 0.5010 - val_loss: 9.0620 - val_acc: 0.4297 - val_dice_coef: 0.4285\n",
      "Epoch 92/200\n",
      "480/500 [===========================>..] - ETA: 1s - loss: 43.7940 - acc: 0.5028 - dice_coef: 0.5001Epoch 00091: val_loss did not improve\n",
      "500/500 [==============================] - 52s - loss: 43.8632 - acc: 0.5034 - dice_coef: 0.5006 - val_loss: 9.0614 - val_acc: 0.4298 - val_dice_coef: 0.4285\n",
      "Epoch 93/200\n",
      "480/500 [===========================>..] - ETA: 1s - loss: 43.7511 - acc: 0.5044 - dice_coef: 0.5016Epoch 00092: val_loss did not improve\n",
      "500/500 [==============================] - 52s - loss: 43.9072 - acc: 0.5034 - dice_coef: 0.5007 - val_loss: 9.0608 - val_acc: 0.4298 - val_dice_coef: 0.4285\n",
      "Epoch 94/200\n",
      "480/500 [===========================>..] - ETA: 1s - loss: 43.8919 - acc: 0.5031 - dice_coef: 0.5004Epoch 00093: val_loss did not improve\n",
      "500/500 [==============================] - 52s - loss: 43.9734 - acc: 0.5029 - dice_coef: 0.5001 - val_loss: 9.0606 - val_acc: 0.4298 - val_dice_coef: 0.4285\n",
      "Epoch 95/200\n",
      "480/500 [===========================>..] - ETA: 1s - loss: 43.9027 - acc: 0.5036 - dice_coef: 0.5008Epoch 00094: val_loss did not improve\n",
      "500/500 [==============================] - 52s - loss: 43.8499 - acc: 0.5034 - dice_coef: 0.5006 - val_loss: 9.0611 - val_acc: 0.4298 - val_dice_coef: 0.4285\n",
      "Epoch 96/200\n",
      "480/500 [===========================>..] - ETA: 1s - loss: 43.9219 - acc: 0.5033 - dice_coef: 0.5005Epoch 00095: val_loss did not improve\n",
      "500/500 [==============================] - 52s - loss: 43.8624 - acc: 0.5036 - dice_coef: 0.5008 - val_loss: 9.0609 - val_acc: 0.4298 - val_dice_coef: 0.4285\n",
      "Epoch 97/200\n",
      "480/500 [===========================>..] - ETA: 1s - loss: 44.1516 - acc: 0.5024 - dice_coef: 0.4997Epoch 00096: val_loss did not improve\n",
      "500/500 [==============================] - 52s - loss: 43.9884 - acc: 0.5029 - dice_coef: 0.5002 - val_loss: 9.0613 - val_acc: 0.4298 - val_dice_coef: 0.4285\n",
      "Epoch 98/200\n",
      "480/500 [===========================>..] - ETA: 1s - loss: 44.0314 - acc: 0.5019 - dice_coef: 0.4991Epoch 00097: val_loss did not improve\n",
      "500/500 [==============================] - 52s - loss: 43.8859 - acc: 0.5035 - dice_coef: 0.5007 - val_loss: 9.0615 - val_acc: 0.4298 - val_dice_coef: 0.4285\n",
      "Epoch 99/200\n",
      "480/500 [===========================>..] - ETA: 1s - loss: 43.9376 - acc: 0.5033 - dice_coef: 0.5006Epoch 00098: val_loss did not improve\n",
      "500/500 [==============================] - 52s - loss: 43.8890 - acc: 0.5032 - dice_coef: 0.5005 - val_loss: 9.0611 - val_acc: 0.4298 - val_dice_coef: 0.4285\n",
      "Epoch 100/200\n",
      "480/500 [===========================>..] - ETA: 1s - loss: 43.6745 - acc: 0.5042 - dice_coef: 0.5014Epoch 00099: val_loss did not improve\n",
      "500/500 [==============================] - 52s - loss: 43.8275 - acc: 0.5036 - dice_coef: 0.5009 - val_loss: 9.0607 - val_acc: 0.4298 - val_dice_coef: 0.4285\n",
      "Epoch 101/200\n",
      "480/500 [===========================>..] - ETA: 1s - loss: 43.5548 - acc: 0.5054 - dice_coef: 0.5026Epoch 00100: val_loss did not improve\n",
      "500/500 [==============================] - 52s - loss: 43.7702 - acc: 0.5042 - dice_coef: 0.5014 - val_loss: 9.0596 - val_acc: 0.4299 - val_dice_coef: 0.4286\n",
      "Epoch 102/200\n",
      "480/500 [===========================>..] - ETA: 1s - loss: 43.9533 - acc: 0.5029 - dice_coef: 0.5001Epoch 00101: val_loss did not improve\n",
      "500/500 [==============================] - 52s - loss: 43.8980 - acc: 0.5034 - dice_coef: 0.5006 - val_loss: 9.0593 - val_acc: 0.4299 - val_dice_coef: 0.4286\n",
      "Epoch 103/200\n",
      "480/500 [===========================>..] - ETA: 1s - loss: 44.0626 - acc: 0.5032 - dice_coef: 0.5005Epoch 00102: val_loss did not improve\n",
      "500/500 [==============================] - 52s - loss: 43.9180 - acc: 0.5036 - dice_coef: 0.5008 - val_loss: 9.0591 - val_acc: 0.4300 - val_dice_coef: 0.4286\n",
      "Epoch 104/200\n",
      "480/500 [===========================>..] - ETA: 1s - loss: 43.5648 - acc: 0.5050 - dice_coef: 0.5020Epoch 00103: val_loss did not improve\n",
      "500/500 [==============================] - 52s - loss: 43.7564 - acc: 0.5046 - dice_coef: 0.5017 - val_loss: 9.0592 - val_acc: 0.4299 - val_dice_coef: 0.4286\n",
      "Epoch 105/200\n",
      "480/500 [===========================>..] - ETA: 1s - loss: 43.8254 - acc: 0.5041 - dice_coef: 0.5013Epoch 00104: val_loss did not improve\n",
      "500/500 [==============================] - 52s - loss: 43.8259 - acc: 0.5041 - dice_coef: 0.5013 - val_loss: 9.0586 - val_acc: 0.4300 - val_dice_coef: 0.4287\n",
      "Epoch 106/200\n",
      "480/500 [===========================>..] - ETA: 1s - loss: 43.8842 - acc: 0.5034 - dice_coef: 0.5006Epoch 00105: val_loss did not improve\n",
      "500/500 [==============================] - 52s - loss: 43.7824 - acc: 0.5038 - dice_coef: 0.5010 - val_loss: 9.0587 - val_acc: 0.4300 - val_dice_coef: 0.4287\n",
      "Epoch 107/200\n",
      "480/500 [===========================>..] - ETA: 1s - loss: 43.9029 - acc: 0.5028 - dice_coef: 0.5001Epoch 00106: val_loss did not improve\n",
      "500/500 [==============================] - 52s - loss: 43.7823 - acc: 0.5039 - dice_coef: 0.5012 - val_loss: 9.0601 - val_acc: 0.4299 - val_dice_coef: 0.4286\n",
      "Epoch 108/200\n",
      "480/500 [===========================>..] - ETA: 1s - loss: 43.9994 - acc: 0.5027 - dice_coef: 0.5000Epoch 00107: val_loss did not improve\n",
      "500/500 [==============================] - 52s - loss: 43.8871 - acc: 0.5033 - dice_coef: 0.5006 - val_loss: 9.0598 - val_acc: 0.4299 - val_dice_coef: 0.4286\n",
      "Epoch 109/200\n",
      "480/500 [===========================>..] - ETA: 1s - loss: 44.0788 - acc: 0.5016 - dice_coef: 0.4989Epoch 00108: val_loss did not improve\n",
      "500/500 [==============================] - 52s - loss: 43.9051 - acc: 0.5034 - dice_coef: 0.5006 - val_loss: 9.0597 - val_acc: 0.4299 - val_dice_coef: 0.4286\n",
      "Epoch 110/200\n",
      "480/500 [===========================>..] - ETA: 1s - loss: 44.2077 - acc: 0.5028 - dice_coef: 0.5000Epoch 00109: val_loss did not improve\n",
      "500/500 [==============================] - 52s - loss: 43.9291 - acc: 0.5034 - dice_coef: 0.5006 - val_loss: 9.0601 - val_acc: 0.4299 - val_dice_coef: 0.4286\n",
      "Epoch 111/200\n",
      "480/500 [===========================>..] - ETA: 1s - loss: 43.7201 - acc: 0.5049 - dice_coef: 0.5020Epoch 00110: val_loss did not improve\n",
      "500/500 [==============================] - 52s - loss: 43.8006 - acc: 0.5041 - dice_coef: 0.5012 - val_loss: 9.0604 - val_acc: 0.4299 - val_dice_coef: 0.4286\n",
      "Epoch 112/200\n",
      "480/500 [===========================>..] - ETA: 1s - loss: 43.7993 - acc: 0.5038 - dice_coef: 0.5010Epoch 00111: val_loss did not improve\n",
      "500/500 [==============================] - 52s - loss: 43.8850 - acc: 0.5036 - dice_coef: 0.5008 - val_loss: 9.0606 - val_acc: 0.4298 - val_dice_coef: 0.4286\n",
      "Epoch 113/200\n",
      "480/500 [===========================>..] - ETA: 1s - loss: 43.7017 - acc: 0.5052 - dice_coef: 0.5024Epoch 00112: val_loss did not improve\n",
      "500/500 [==============================] - 52s - loss: 43.8073 - acc: 0.5042 - dice_coef: 0.5013 - val_loss: 9.0591 - val_acc: 0.4299 - val_dice_coef: 0.4286\n",
      "Epoch 114/200\n",
      "480/500 [===========================>..] - ETA: 1s - loss: 43.8538 - acc: 0.5042 - dice_coef: 0.5013Epoch 00113: val_loss did not improve\n",
      "500/500 [==============================] - 52s - loss: 43.8962 - acc: 0.5037 - dice_coef: 0.5009 - val_loss: 9.0595 - val_acc: 0.4299 - val_dice_coef: 0.4286\n",
      "Epoch 115/200\n",
      "480/500 [===========================>..] - ETA: 1s - loss: 43.8226 - acc: 0.5038 - dice_coef: 0.5011Epoch 00114: val_loss did not improve\n",
      "500/500 [==============================] - 52s - loss: 43.7827 - acc: 0.5040 - dice_coef: 0.5013 - val_loss: 9.0593 - val_acc: 0.4299 - val_dice_coef: 0.4286\n",
      "Epoch 116/200\n",
      "480/500 [===========================>..] - ETA: 1s - loss: 43.7854 - acc: 0.5036 - dice_coef: 0.5008Epoch 00115: val_loss did not improve\n",
      "500/500 [==============================] - 52s - loss: 43.9019 - acc: 0.5035 - dice_coef: 0.5007 - val_loss: 9.0582 - val_acc: 0.4300 - val_dice_coef: 0.4287\n",
      "Epoch 117/200\n",
      "480/500 [===========================>..] - ETA: 1s - loss: 43.9283 - acc: 0.5052 - dice_coef: 0.5023Epoch 00116: val_loss did not improve\n",
      "500/500 [==============================] - 52s - loss: 43.8230 - acc: 0.5042 - dice_coef: 0.5013 - val_loss: 9.0590 - val_acc: 0.4299 - val_dice_coef: 0.4286\n",
      "Epoch 118/200\n",
      "480/500 [===========================>..] - ETA: 1s - loss: 43.7283 - acc: 0.5047 - dice_coef: 0.5019Epoch 00117: val_loss did not improve\n",
      "500/500 [==============================] - 52s - loss: 43.7956 - acc: 0.5039 - dice_coef: 0.5012 - val_loss: 9.0584 - val_acc: 0.4300 - val_dice_coef: 0.4287\n",
      "Epoch 119/200\n",
      "480/500 [===========================>..] - ETA: 1s - loss: 43.8387 - acc: 0.5034 - dice_coef: 0.5006Epoch 00118: val_loss did not improve\n",
      "500/500 [==============================] - 52s - loss: 43.7888 - acc: 0.5042 - dice_coef: 0.5014 - val_loss: 9.0583 - val_acc: 0.4300 - val_dice_coef: 0.4287\n",
      "Epoch 120/200\n",
      "480/500 [===========================>..] - ETA: 1s - loss: 43.7306 - acc: 0.5043 - dice_coef: 0.5015Epoch 00119: val_loss did not improve\n",
      "500/500 [==============================] - 52s - loss: 43.8155 - acc: 0.5042 - dice_coef: 0.5014 - val_loss: 9.0580 - val_acc: 0.4300 - val_dice_coef: 0.4287\n",
      "Epoch 121/200\n",
      "480/500 [===========================>..] - ETA: 1s - loss: 43.7123 - acc: 0.5053 - dice_coef: 0.5023Epoch 00120: val_loss did not improve\n",
      "500/500 [==============================] - 52s - loss: 43.8055 - acc: 0.5040 - dice_coef: 0.5011 - val_loss: 9.0592 - val_acc: 0.4299 - val_dice_coef: 0.4286\n",
      "Epoch 122/200\n",
      "480/500 [===========================>..] - ETA: 1s - loss: 43.9317 - acc: 0.5033 - dice_coef: 0.5005Epoch 00121: val_loss did not improve\n",
      "500/500 [==============================] - 52s - loss: 43.8450 - acc: 0.5036 - dice_coef: 0.5008 - val_loss: 9.0588 - val_acc: 0.4300 - val_dice_coef: 0.4287\n",
      "Epoch 123/200\n",
      "480/500 [===========================>..] - ETA: 1s - loss: 44.0831 - acc: 0.5019 - dice_coef: 0.4992Epoch 00122: val_loss did not improve\n",
      "500/500 [==============================] - 52s - loss: 43.8850 - acc: 0.5034 - dice_coef: 0.5007 - val_loss: 9.0594 - val_acc: 0.4299 - val_dice_coef: 0.4286\n",
      "Epoch 124/200\n",
      "480/500 [===========================>..] - ETA: 1s - loss: 44.0072 - acc: 0.5030 - dice_coef: 0.5002Epoch 00123: val_loss did not improve\n",
      "500/500 [==============================] - 52s - loss: 43.8141 - acc: 0.5040 - dice_coef: 0.5012 - val_loss: 9.0591 - val_acc: 0.4299 - val_dice_coef: 0.4286\n",
      "Epoch 125/200\n",
      "480/500 [===========================>..] - ETA: 1s - loss: 44.0344 - acc: 0.5021 - dice_coef: 0.4992Epoch 00124: val_loss did not improve\n",
      "500/500 [==============================] - 52s - loss: 43.8425 - acc: 0.5038 - dice_coef: 0.5010 - val_loss: 9.0589 - val_acc: 0.4299 - val_dice_coef: 0.4286\n",
      "Epoch 126/200\n",
      "480/500 [===========================>..] - ETA: 1s - loss: 43.9298 - acc: 0.5028 - dice_coef: 0.5000Epoch 00125: val_loss did not improve\n",
      "500/500 [==============================] - 52s - loss: 43.8591 - acc: 0.5036 - dice_coef: 0.5008 - val_loss: 9.0588 - val_acc: 0.4299 - val_dice_coef: 0.4287\n",
      "Epoch 127/200\n",
      "480/500 [===========================>..] - ETA: 1s - loss: 43.9209 - acc: 0.5033 - dice_coef: 0.5006Epoch 00126: val_loss did not improve\n",
      "500/500 [==============================] - 52s - loss: 43.9253 - acc: 0.5037 - dice_coef: 0.5009 - val_loss: 9.0583 - val_acc: 0.4300 - val_dice_coef: 0.4287\n",
      "Epoch 128/200\n",
      "480/500 [===========================>..] - ETA: 1s - loss: 44.0002 - acc: 0.5034 - dice_coef: 0.5006Epoch 00127: val_loss did not improve\n",
      "500/500 [==============================] - 52s - loss: 43.8412 - acc: 0.5039 - dice_coef: 0.5010 - val_loss: 9.0586 - val_acc: 0.4300 - val_dice_coef: 0.4287\n",
      "Epoch 129/200\n",
      "480/500 [===========================>..] - ETA: 1s - loss: 43.6881 - acc: 0.5049 - dice_coef: 0.5020Epoch 00128: val_loss did not improve\n",
      "500/500 [==============================] - 52s - loss: 43.8052 - acc: 0.5040 - dice_coef: 0.5012 - val_loss: 9.0586 - val_acc: 0.4300 - val_dice_coef: 0.4287\n",
      "Epoch 130/200\n",
      "480/500 [===========================>..] - ETA: 1s - loss: 43.5958 - acc: 0.5045 - dice_coef: 0.5017Epoch 00129: val_loss did not improve\n",
      "500/500 [==============================] - 52s - loss: 43.8514 - acc: 0.5039 - dice_coef: 0.5011 - val_loss: 9.0595 - val_acc: 0.4299 - val_dice_coef: 0.4286\n",
      "Epoch 131/200\n",
      "480/500 [===========================>..] - ETA: 1s - loss: 43.9727 - acc: 0.5035 - dice_coef: 0.5007Epoch 00130: val_loss did not improve\n",
      "500/500 [==============================] - 52s - loss: 43.8803 - acc: 0.5034 - dice_coef: 0.5006 - val_loss: 9.0600 - val_acc: 0.4299 - val_dice_coef: 0.4286\n",
      "Epoch 132/200\n",
      "480/500 [===========================>..] - ETA: 1s - loss: 44.0417 - acc: 0.5031 - dice_coef: 0.5004Epoch 00131: val_loss did not improve\n",
      "500/500 [==============================] - 52s - loss: 43.9254 - acc: 0.5030 - dice_coef: 0.5003 - val_loss: 9.0598 - val_acc: 0.4299 - val_dice_coef: 0.4286\n",
      "Epoch 133/200\n",
      "480/500 [===========================>..] - ETA: 1s - loss: 43.7193 - acc: 0.5037 - dice_coef: 0.5009Epoch 00132: val_loss did not improve\n",
      "500/500 [==============================] - 52s - loss: 43.8419 - acc: 0.5036 - dice_coef: 0.5008 - val_loss: 9.0603 - val_acc: 0.4299 - val_dice_coef: 0.4286\n",
      "Epoch 134/200\n",
      "480/500 [===========================>..] - ETA: 1s - loss: 43.7511 - acc: 0.5043 - dice_coef: 0.5014Epoch 00133: val_loss did not improve\n",
      "500/500 [==============================] - 52s - loss: 43.7884 - acc: 0.5042 - dice_coef: 0.5014 - val_loss: 9.0601 - val_acc: 0.4299 - val_dice_coef: 0.4286\n",
      "Epoch 135/200\n",
      "480/500 [===========================>..] - ETA: 1s - loss: 43.9062 - acc: 0.5028 - dice_coef: 0.5000Epoch 00134: val_loss did not improve\n",
      "500/500 [==============================] - 52s - loss: 43.9094 - acc: 0.5036 - dice_coef: 0.5008 - val_loss: 9.0596 - val_acc: 0.4299 - val_dice_coef: 0.4286\n",
      "Epoch 136/200\n",
      "480/500 [===========================>..] - ETA: 1s - loss: 43.5955 - acc: 0.5045 - dice_coef: 0.5017Epoch 00135: val_loss did not improve\n",
      "500/500 [==============================] - 52s - loss: 43.7995 - acc: 0.5038 - dice_coef: 0.5011 - val_loss: 9.0605 - val_acc: 0.4299 - val_dice_coef: 0.4286\n",
      "Epoch 137/200\n",
      "480/500 [===========================>..] - ETA: 1s - loss: 43.9683 - acc: 0.5033 - dice_coef: 0.5004Epoch 00136: val_loss did not improve\n",
      "500/500 [==============================] - 52s - loss: 43.8014 - acc: 0.5040 - dice_coef: 0.5012 - val_loss: 9.0601 - val_acc: 0.4299 - val_dice_coef: 0.4286\n",
      "Epoch 138/200\n",
      "480/500 [===========================>..] - ETA: 1s - loss: 43.9017 - acc: 0.5037 - dice_coef: 0.5009Epoch 00137: val_loss did not improve\n",
      "500/500 [==============================] - 52s - loss: 43.8417 - acc: 0.5039 - dice_coef: 0.5011 - val_loss: 9.0587 - val_acc: 0.4300 - val_dice_coef: 0.4287\n",
      "Epoch 139/200\n",
      "480/500 [===========================>..] - ETA: 1s - loss: 44.0374 - acc: 0.5039 - dice_coef: 0.5012Epoch 00138: val_loss did not improve\n",
      "500/500 [==============================] - 52s - loss: 43.8311 - acc: 0.5038 - dice_coef: 0.5010 - val_loss: 9.0594 - val_acc: 0.4299 - val_dice_coef: 0.4286\n",
      "Epoch 140/200\n",
      "480/500 [===========================>..] - ETA: 1s - loss: 44.0132 - acc: 0.5033 - dice_coef: 0.5006Epoch 00139: val_loss did not improve\n",
      "500/500 [==============================] - 52s - loss: 43.8501 - acc: 0.5038 - dice_coef: 0.5011 - val_loss: 9.0590 - val_acc: 0.4299 - val_dice_coef: 0.4286\n",
      "Epoch 141/200\n",
      "480/500 [===========================>..] - ETA: 1s - loss: 44.0854 - acc: 0.5037 - dice_coef: 0.5009Epoch 00140: val_loss did not improve\n",
      "500/500 [==============================] - 52s - loss: 43.8819 - acc: 0.5039 - dice_coef: 0.5011 - val_loss: 9.0595 - val_acc: 0.4299 - val_dice_coef: 0.4286\n",
      "Epoch 142/200\n",
      "480/500 [===========================>..] - ETA: 1s - loss: 43.8963 - acc: 0.5041 - dice_coef: 0.5014Epoch 00141: val_loss did not improve\n",
      "500/500 [==============================] - 52s - loss: 43.8291 - acc: 0.5038 - dice_coef: 0.5011 - val_loss: 9.0594 - val_acc: 0.4299 - val_dice_coef: 0.4286\n",
      "Epoch 143/200\n",
      "480/500 [===========================>..] - ETA: 1s - loss: 43.7764 - acc: 0.5038 - dice_coef: 0.5010Epoch 00142: val_loss did not improve\n",
      "500/500 [==============================] - 52s - loss: 43.7279 - acc: 0.5045 - dice_coef: 0.5017 - val_loss: 9.0592 - val_acc: 0.4299 - val_dice_coef: 0.4286\n",
      "Epoch 144/200\n",
      "480/500 [===========================>..] - ETA: 1s - loss: 43.7921 - acc: 0.5036 - dice_coef: 0.5008Epoch 00143: val_loss did not improve\n",
      "500/500 [==============================] - 52s - loss: 43.8582 - acc: 0.5036 - dice_coef: 0.5008 - val_loss: 9.0593 - val_acc: 0.4299 - val_dice_coef: 0.4286\n",
      "Epoch 145/200\n",
      "480/500 [===========================>..] - ETA: 1s - loss: 43.5293 - acc: 0.5047 - dice_coef: 0.5020Epoch 00144: val_loss did not improve\n",
      "500/500 [==============================] - 52s - loss: 43.7602 - acc: 0.5042 - dice_coef: 0.5014 - val_loss: 9.0584 - val_acc: 0.4300 - val_dice_coef: 0.4287\n",
      "Epoch 146/200\n",
      "480/500 [===========================>..] - ETA: 1s - loss: 43.7725 - acc: 0.5043 - dice_coef: 0.5015Epoch 00145: val_loss did not improve\n",
      "500/500 [==============================] - 52s - loss: 43.7617 - acc: 0.5046 - dice_coef: 0.5018 - val_loss: 9.0581 - val_acc: 0.4300 - val_dice_coef: 0.4287\n",
      "Epoch 147/200\n",
      "480/500 [===========================>..] - ETA: 1s - loss: 43.8387 - acc: 0.5039 - dice_coef: 0.5011Epoch 00146: val_loss did not improve\n",
      "500/500 [==============================] - 52s - loss: 43.7579 - acc: 0.5044 - dice_coef: 0.5016 - val_loss: 9.0572 - val_acc: 0.4300 - val_dice_coef: 0.4288\n",
      "Epoch 148/200\n",
      "480/500 [===========================>..] - ETA: 1s - loss: 43.8309 - acc: 0.5037 - dice_coef: 0.5009Epoch 00147: val_loss did not improve\n",
      "500/500 [==============================] - 52s - loss: 43.8894 - acc: 0.5037 - dice_coef: 0.5009 - val_loss: 9.0576 - val_acc: 0.4300 - val_dice_coef: 0.4287\n",
      "Epoch 149/200\n",
      "480/500 [===========================>..] - ETA: 1s - loss: 43.8227 - acc: 0.5043 - dice_coef: 0.5016Epoch 00148: val_loss did not improve\n",
      "500/500 [==============================] - 52s - loss: 43.8222 - acc: 0.5038 - dice_coef: 0.5011 - val_loss: 9.0573 - val_acc: 0.4300 - val_dice_coef: 0.4287\n",
      "Epoch 150/200\n",
      "480/500 [===========================>..] - ETA: 1s - loss: 43.6553 - acc: 0.5059 - dice_coef: 0.5030Epoch 00149: val_loss did not improve\n",
      "500/500 [==============================] - 52s - loss: 43.8126 - acc: 0.5038 - dice_coef: 0.5010 - val_loss: 9.0570 - val_acc: 0.4301 - val_dice_coef: 0.4288\n",
      "Epoch 151/200\n",
      "480/500 [===========================>..] - ETA: 1s - loss: 43.6768 - acc: 0.5042 - dice_coef: 0.5014Epoch 00150: val_loss did not improve\n",
      "500/500 [==============================] - 52s - loss: 43.8816 - acc: 0.5038 - dice_coef: 0.5010 - val_loss: 9.0582 - val_acc: 0.4300 - val_dice_coef: 0.4287\n",
      "Epoch 152/200\n",
      "480/500 [===========================>..] - ETA: 1s - loss: 43.9164 - acc: 0.5037 - dice_coef: 0.5009Epoch 00151: val_loss did not improve\n",
      "500/500 [==============================] - 52s - loss: 43.7737 - acc: 0.5044 - dice_coef: 0.5016 - val_loss: 9.0581 - val_acc: 0.4300 - val_dice_coef: 0.4287\n",
      "Epoch 153/200\n",
      "480/500 [===========================>..] - ETA: 1s - loss: 44.0293 - acc: 0.5029 - dice_coef: 0.5001Epoch 00152: val_loss did not improve\n",
      "500/500 [==============================] - 52s - loss: 43.9291 - acc: 0.5033 - dice_coef: 0.5005 - val_loss: 9.0581 - val_acc: 0.4300 - val_dice_coef: 0.4287\n",
      "Epoch 154/200\n",
      "480/500 [===========================>..] - ETA: 1s - loss: 43.7952 - acc: 0.5041 - dice_coef: 0.5012Epoch 00153: val_loss did not improve\n",
      "500/500 [==============================] - 52s - loss: 43.7934 - acc: 0.5042 - dice_coef: 0.5014 - val_loss: 9.0581 - val_acc: 0.4300 - val_dice_coef: 0.4287\n",
      "Epoch 155/200\n",
      "480/500 [===========================>..] - ETA: 1s - loss: 44.0523 - acc: 0.5032 - dice_coef: 0.5004Epoch 00154: val_loss did not improve\n",
      "500/500 [==============================] - 52s - loss: 43.8613 - acc: 0.5040 - dice_coef: 0.5012 - val_loss: 9.0573 - val_acc: 0.4300 - val_dice_coef: 0.4287\n",
      "Epoch 156/200\n",
      "480/500 [===========================>..] - ETA: 1s - loss: 43.8792 - acc: 0.5043 - dice_coef: 0.5015Epoch 00155: val_loss did not improve\n",
      "500/500 [==============================] - 52s - loss: 43.8198 - acc: 0.5041 - dice_coef: 0.5013 - val_loss: 9.0572 - val_acc: 0.4300 - val_dice_coef: 0.4288\n",
      "Epoch 157/200\n",
      "480/500 [===========================>..] - ETA: 1s - loss: 43.9012 - acc: 0.5045 - dice_coef: 0.5017Epoch 00156: val_loss did not improve\n",
      "500/500 [==============================] - 52s - loss: 43.7540 - acc: 0.5045 - dice_coef: 0.5017 - val_loss: 9.0570 - val_acc: 0.4300 - val_dice_coef: 0.4288\n",
      "Epoch 158/200\n",
      "480/500 [===========================>..] - ETA: 1s - loss: 44.0206 - acc: 0.5038 - dice_coef: 0.5011Epoch 00157: val_loss did not improve\n",
      "500/500 [==============================] - 52s - loss: 43.8215 - acc: 0.5042 - dice_coef: 0.5014 - val_loss: 9.0562 - val_acc: 0.4301 - val_dice_coef: 0.4288\n",
      "Epoch 159/200\n",
      "480/500 [===========================>..] - ETA: 1s - loss: 43.9047 - acc: 0.5036 - dice_coef: 0.5008Epoch 00158: val_loss did not improve\n",
      "500/500 [==============================] - 52s - loss: 43.7388 - acc: 0.5045 - dice_coef: 0.5017 - val_loss: 9.0569 - val_acc: 0.4301 - val_dice_coef: 0.4288\n",
      "Epoch 160/200\n",
      "480/500 [===========================>..] - ETA: 1s - loss: 43.9723 - acc: 0.5035 - dice_coef: 0.5007Epoch 00159: val_loss did not improve\n",
      "500/500 [==============================] - 52s - loss: 43.7577 - acc: 0.5041 - dice_coef: 0.5013 - val_loss: 9.0574 - val_acc: 0.4300 - val_dice_coef: 0.4287\n",
      "Epoch 161/200\n",
      "480/500 [===========================>..] - ETA: 1s - loss: 43.7182 - acc: 0.5046 - dice_coef: 0.5018Epoch 00160: val_loss did not improve\n",
      "500/500 [==============================] - 52s - loss: 43.7517 - acc: 0.5047 - dice_coef: 0.5019 - val_loss: 9.0567 - val_acc: 0.4301 - val_dice_coef: 0.4288\n",
      "Epoch 162/200\n",
      "480/500 [===========================>..] - ETA: 1s - loss: 43.5480 - acc: 0.5059 - dice_coef: 0.5030Epoch 00161: val_loss did not improve\n",
      "500/500 [==============================] - 52s - loss: 43.7166 - acc: 0.5046 - dice_coef: 0.5018 - val_loss: 9.0567 - val_acc: 0.4301 - val_dice_coef: 0.4288\n",
      "Epoch 163/200\n",
      "480/500 [===========================>..] - ETA: 1s - loss: 43.6208 - acc: 0.5047 - dice_coef: 0.5020Epoch 00162: val_loss did not improve\n",
      "500/500 [==============================] - 52s - loss: 43.7848 - acc: 0.5043 - dice_coef: 0.5016 - val_loss: 9.0567 - val_acc: 0.4301 - val_dice_coef: 0.4288\n",
      "Epoch 164/200\n",
      "480/500 [===========================>..] - ETA: 1s - loss: 43.6950 - acc: 0.5035 - dice_coef: 0.5007Epoch 00163: val_loss did not improve\n",
      "500/500 [==============================] - 52s - loss: 43.8114 - acc: 0.5042 - dice_coef: 0.5014 - val_loss: 9.0571 - val_acc: 0.4301 - val_dice_coef: 0.4288\n",
      "Epoch 165/200\n",
      "480/500 [===========================>..] - ETA: 1s - loss: 43.9972 - acc: 0.5023 - dice_coef: 0.4996Epoch 00164: val_loss did not improve\n",
      "500/500 [==============================] - 52s - loss: 43.8137 - acc: 0.5037 - dice_coef: 0.5010 - val_loss: 9.0577 - val_acc: 0.4300 - val_dice_coef: 0.4287\n",
      "Epoch 166/200\n",
      "480/500 [===========================>..] - ETA: 1s - loss: 43.6743 - acc: 0.5050 - dice_coef: 0.5021Epoch 00165: val_loss did not improve\n",
      "500/500 [==============================] - 52s - loss: 43.8470 - acc: 0.5039 - dice_coef: 0.5011 - val_loss: 9.0568 - val_acc: 0.4301 - val_dice_coef: 0.4288\n",
      "Epoch 167/200\n",
      "480/500 [===========================>..] - ETA: 1s - loss: 43.8089 - acc: 0.5035 - dice_coef: 0.5008Epoch 00166: val_loss did not improve\n",
      "500/500 [==============================] - 52s - loss: 43.8050 - acc: 0.5040 - dice_coef: 0.5013 - val_loss: 9.0570 - val_acc: 0.4301 - val_dice_coef: 0.4288\n",
      "Epoch 168/200\n",
      "480/500 [===========================>..] - ETA: 1s - loss: 43.7503 - acc: 0.5052 - dice_coef: 0.5023Epoch 00167: val_loss did not improve\n",
      "500/500 [==============================] - 52s - loss: 43.7615 - acc: 0.5044 - dice_coef: 0.5016 - val_loss: 9.0574 - val_acc: 0.4300 - val_dice_coef: 0.4287\n",
      "Epoch 169/200\n",
      "480/500 [===========================>..] - ETA: 1s - loss: 43.6752 - acc: 0.5048 - dice_coef: 0.5019Epoch 00168: val_loss did not improve\n",
      "500/500 [==============================] - 52s - loss: 43.7325 - acc: 0.5045 - dice_coef: 0.5017 - val_loss: 9.0566 - val_acc: 0.4301 - val_dice_coef: 0.4288\n",
      "Epoch 170/200\n",
      "480/500 [===========================>..] - ETA: 1s - loss: 43.7181 - acc: 0.5047 - dice_coef: 0.5019Epoch 00169: val_loss did not improve\n",
      "500/500 [==============================] - 52s - loss: 43.7873 - acc: 0.5041 - dice_coef: 0.5012 - val_loss: 9.0576 - val_acc: 0.4300 - val_dice_coef: 0.4287\n",
      "Epoch 171/200\n",
      "480/500 [===========================>..] - ETA: 1s - loss: 43.6634 - acc: 0.5050 - dice_coef: 0.5022Epoch 00170: val_loss did not improve\n",
      "500/500 [==============================] - 52s - loss: 43.7810 - acc: 0.5043 - dice_coef: 0.5015 - val_loss: 9.0560 - val_acc: 0.4301 - val_dice_coef: 0.4288\n",
      "Epoch 172/200\n",
      "480/500 [===========================>..] - ETA: 1s - loss: 43.7532 - acc: 0.5041 - dice_coef: 0.5013Epoch 00171: val_loss did not improve\n",
      "500/500 [==============================] - 52s - loss: 43.8335 - acc: 0.5041 - dice_coef: 0.5013 - val_loss: 9.0569 - val_acc: 0.4301 - val_dice_coef: 0.4288\n",
      "Epoch 173/200\n",
      "480/500 [===========================>..] - ETA: 1s - loss: 43.6569 - acc: 0.5046 - dice_coef: 0.5018Epoch 00172: val_loss did not improve\n",
      "500/500 [==============================] - 52s - loss: 43.8495 - acc: 0.5038 - dice_coef: 0.5011 - val_loss: 9.0562 - val_acc: 0.4301 - val_dice_coef: 0.4288\n",
      "Epoch 174/200\n",
      "480/500 [===========================>..] - ETA: 1s - loss: 43.4649 - acc: 0.5055 - dice_coef: 0.5026Epoch 00173: val_loss did not improve\n",
      "500/500 [==============================] - 52s - loss: 43.7589 - acc: 0.5045 - dice_coef: 0.5016 - val_loss: 9.0568 - val_acc: 0.4301 - val_dice_coef: 0.4288\n",
      "Epoch 175/200\n",
      "480/500 [===========================>..] - ETA: 1s - loss: 43.8115 - acc: 0.5037 - dice_coef: 0.5010Epoch 00174: val_loss did not improve\n",
      "500/500 [==============================] - 52s - loss: 43.7874 - acc: 0.5040 - dice_coef: 0.5013 - val_loss: 9.0567 - val_acc: 0.4301 - val_dice_coef: 0.4288\n",
      "Epoch 176/200\n",
      "480/500 [===========================>..] - ETA: 1s - loss: 43.7091 - acc: 0.5048 - dice_coef: 0.5020Epoch 00175: val_loss did not improve\n",
      "500/500 [==============================] - 52s - loss: 43.7525 - acc: 0.5041 - dice_coef: 0.5014 - val_loss: 9.0563 - val_acc: 0.4301 - val_dice_coef: 0.4288\n",
      "Epoch 177/200\n",
      "480/500 [===========================>..] - ETA: 1s - loss: 43.9894 - acc: 0.5029 - dice_coef: 0.5002Epoch 00176: val_loss did not improve\n",
      "500/500 [==============================] - 52s - loss: 43.8825 - acc: 0.5038 - dice_coef: 0.5010 - val_loss: 9.0558 - val_acc: 0.4301 - val_dice_coef: 0.4288\n",
      "Epoch 178/200\n",
      "480/500 [===========================>..] - ETA: 1s - loss: 43.8426 - acc: 0.5035 - dice_coef: 0.5007Epoch 00177: val_loss did not improve\n",
      "500/500 [==============================] - 52s - loss: 43.8454 - acc: 0.5038 - dice_coef: 0.5011 - val_loss: 9.0561 - val_acc: 0.4301 - val_dice_coef: 0.4288\n",
      "Epoch 179/200\n",
      "480/500 [===========================>..] - ETA: 1s - loss: 43.7947 - acc: 0.5033 - dice_coef: 0.5006Epoch 00178: val_loss did not improve\n",
      "500/500 [==============================] - 52s - loss: 43.7500 - acc: 0.5044 - dice_coef: 0.5016 - val_loss: 9.0564 - val_acc: 0.4301 - val_dice_coef: 0.4288\n",
      "Epoch 180/200\n",
      "480/500 [===========================>..] - ETA: 1s - loss: 43.8488 - acc: 0.5036 - dice_coef: 0.5008Epoch 00179: val_loss did not improve\n",
      "500/500 [==============================] - 52s - loss: 43.7763 - acc: 0.5046 - dice_coef: 0.5017 - val_loss: 9.0563 - val_acc: 0.4301 - val_dice_coef: 0.4288\n",
      "Epoch 181/200\n",
      "480/500 [===========================>..] - ETA: 1s - loss: 43.8454 - acc: 0.5046 - dice_coef: 0.5018Epoch 00180: val_loss did not improve\n",
      "500/500 [==============================] - 52s - loss: 43.8219 - acc: 0.5041 - dice_coef: 0.5013 - val_loss: 9.0561 - val_acc: 0.4301 - val_dice_coef: 0.4288\n",
      "Epoch 182/200\n",
      "480/500 [===========================>..] - ETA: 1s - loss: 43.9707 - acc: 0.5046 - dice_coef: 0.5018Epoch 00181: val_loss did not improve\n",
      "500/500 [==============================] - 52s - loss: 43.8225 - acc: 0.5044 - dice_coef: 0.5016 - val_loss: 9.0563 - val_acc: 0.4301 - val_dice_coef: 0.4288\n",
      "Epoch 183/200\n",
      "480/500 [===========================>..] - ETA: 1s - loss: 43.7589 - acc: 0.5054 - dice_coef: 0.5026Epoch 00182: val_loss did not improve\n",
      "500/500 [==============================] - 52s - loss: 43.7855 - acc: 0.5044 - dice_coef: 0.5016 - val_loss: 9.0569 - val_acc: 0.4300 - val_dice_coef: 0.4288\n",
      "Epoch 184/200\n",
      "480/500 [===========================>..] - ETA: 1s - loss: 43.5811 - acc: 0.5052 - dice_coef: 0.5023Epoch 00183: val_loss did not improve\n",
      "500/500 [==============================] - 52s - loss: 43.7635 - acc: 0.5045 - dice_coef: 0.5017 - val_loss: 9.0575 - val_acc: 0.4300 - val_dice_coef: 0.4287\n",
      "Epoch 185/200\n",
      "480/500 [===========================>..] - ETA: 1s - loss: 43.8859 - acc: 0.5043 - dice_coef: 0.5015Epoch 00184: val_loss did not improve\n",
      "500/500 [==============================] - 52s - loss: 43.7180 - acc: 0.5045 - dice_coef: 0.5017 - val_loss: 9.0583 - val_acc: 0.4300 - val_dice_coef: 0.4287\n",
      "Epoch 186/200\n",
      "480/500 [===========================>..] - ETA: 1s - loss: 43.8417 - acc: 0.5049 - dice_coef: 0.5022Epoch 00185: val_loss did not improve\n",
      "500/500 [==============================] - 52s - loss: 43.6903 - acc: 0.5048 - dice_coef: 0.5020 - val_loss: 9.0576 - val_acc: 0.4300 - val_dice_coef: 0.4287\n",
      "Epoch 187/200\n",
      "480/500 [===========================>..] - ETA: 1s - loss: 43.5471 - acc: 0.5053 - dice_coef: 0.5024Epoch 00186: val_loss did not improve\n",
      "500/500 [==============================] - 52s - loss: 43.7994 - acc: 0.5042 - dice_coef: 0.5014 - val_loss: 9.0574 - val_acc: 0.4300 - val_dice_coef: 0.4287\n",
      "Epoch 188/200\n",
      "480/500 [===========================>..] - ETA: 1s - loss: 43.9952 - acc: 0.5026 - dice_coef: 0.4998Epoch 00187: val_loss did not improve\n",
      "500/500 [==============================] - 52s - loss: 43.7815 - acc: 0.5041 - dice_coef: 0.5014 - val_loss: 9.0580 - val_acc: 0.4300 - val_dice_coef: 0.4287\n",
      "Epoch 189/200\n",
      "480/500 [===========================>..] - ETA: 1s - loss: 43.5617 - acc: 0.5057 - dice_coef: 0.5029Epoch 00188: val_loss did not improve\n",
      "500/500 [==============================] - 52s - loss: 43.7949 - acc: 0.5041 - dice_coef: 0.5014 - val_loss: 9.0570 - val_acc: 0.4301 - val_dice_coef: 0.4288\n",
      "Epoch 190/200\n",
      "480/500 [===========================>..] - ETA: 1s - loss: 43.9130 - acc: 0.5034 - dice_coef: 0.5007Epoch 00189: val_loss did not improve\n",
      "500/500 [==============================] - 52s - loss: 43.7538 - acc: 0.5044 - dice_coef: 0.5017 - val_loss: 9.0565 - val_acc: 0.4301 - val_dice_coef: 0.4288\n",
      "Epoch 191/200\n",
      "480/500 [===========================>..] - ETA: 1s - loss: 43.7519 - acc: 0.5037 - dice_coef: 0.5009Epoch 00190: val_loss did not improve\n",
      "500/500 [==============================] - 52s - loss: 43.7495 - acc: 0.5045 - dice_coef: 0.5017 - val_loss: 9.0574 - val_acc: 0.4300 - val_dice_coef: 0.4287\n",
      "Epoch 192/200\n",
      "480/500 [===========================>..] - ETA: 1s - loss: 43.8117 - acc: 0.5043 - dice_coef: 0.5015Epoch 00191: val_loss did not improve\n",
      "500/500 [==============================] - 52s - loss: 43.7824 - acc: 0.5043 - dice_coef: 0.5015 - val_loss: 9.0589 - val_acc: 0.4299 - val_dice_coef: 0.4287\n",
      "Epoch 193/200\n",
      "480/500 [===========================>..] - ETA: 1s - loss: 43.5474 - acc: 0.5045 - dice_coef: 0.5017Epoch 00192: val_loss did not improve\n",
      "500/500 [==============================] - 52s - loss: 43.7112 - acc: 0.5047 - dice_coef: 0.5019 - val_loss: 9.0586 - val_acc: 0.4299 - val_dice_coef: 0.4287\n",
      "Epoch 194/200\n",
      "480/500 [===========================>..] - ETA: 1s - loss: 43.7100 - acc: 0.5052 - dice_coef: 0.5024Epoch 00193: val_loss did not improve\n",
      "500/500 [==============================] - 52s - loss: 43.7274 - acc: 0.5046 - dice_coef: 0.5017 - val_loss: 9.0583 - val_acc: 0.4300 - val_dice_coef: 0.4287\n",
      "Epoch 195/200\n",
      "480/500 [===========================>..] - ETA: 1s - loss: 43.7183 - acc: 0.5042 - dice_coef: 0.5015Epoch 00194: val_loss did not improve\n",
      "500/500 [==============================] - 52s - loss: 43.7378 - acc: 0.5044 - dice_coef: 0.5016 - val_loss: 9.0575 - val_acc: 0.4300 - val_dice_coef: 0.4287\n",
      "Epoch 196/200\n",
      "480/500 [===========================>..] - ETA: 1s - loss: 43.8325 - acc: 0.5039 - dice_coef: 0.5011Epoch 00195: val_loss did not improve\n",
      "500/500 [==============================] - 52s - loss: 43.7790 - acc: 0.5044 - dice_coef: 0.5017 - val_loss: 9.0588 - val_acc: 0.4299 - val_dice_coef: 0.4287\n",
      "Epoch 197/200\n",
      "480/500 [===========================>..] - ETA: 1s - loss: 43.6618 - acc: 0.5057 - dice_coef: 0.5028Epoch 00196: val_loss did not improve\n",
      "500/500 [==============================] - 52s - loss: 43.7894 - acc: 0.5044 - dice_coef: 0.5016 - val_loss: 9.0584 - val_acc: 0.4300 - val_dice_coef: 0.4287\n",
      "Epoch 198/200\n",
      "480/500 [===========================>..] - ETA: 1s - loss: 43.4040 - acc: 0.5056 - dice_coef: 0.5027Epoch 00197: val_loss did not improve\n",
      "500/500 [==============================] - 52s - loss: 43.7844 - acc: 0.5041 - dice_coef: 0.5011 - val_loss: 9.0589 - val_acc: 0.4299 - val_dice_coef: 0.4287\n",
      "Epoch 199/200\n",
      "480/500 [===========================>..] - ETA: 1s - loss: 43.5860 - acc: 0.5058 - dice_coef: 0.5030Epoch 00198: val_loss did not improve\n",
      "500/500 [==============================] - 52s - loss: 43.7727 - acc: 0.5040 - dice_coef: 0.5013 - val_loss: 9.0594 - val_acc: 0.4299 - val_dice_coef: 0.4286\n",
      "Epoch 200/200\n",
      "480/500 [===========================>..] - ETA: 1s - loss: 43.8821 - acc: 0.5043 - dice_coef: 0.5016Epoch 00199: val_loss did not improve\n",
      "500/500 [==============================] - 52s - loss: 43.7387 - acc: 0.5045 - dice_coef: 0.5017 - val_loss: 9.0591 - val_acc: 0.4299 - val_dice_coef: 0.4286\n"
     ]
    },
    {
     "data": {
      "text/plain": [
       "<keras.callbacks.History at 0x7f0a483ff410>"
      ]
     },
     "execution_count": 44,
     "metadata": {},
     "output_type": "execute_result"
    }
   ],
   "source": [
    "\n",
    "model.fit(train_images,train_labels,batch_size=20,epochs=200,validation_data=(test_images,test_labels),sample_weight=sample_weights,callbacks=[lr_reducer, csv_logger,model_chekpoint])"
   ]
  },
  {
   "cell_type": "code",
   "execution_count": 93,
   "metadata": {
    "collapsed": true
   },
   "outputs": [],
   "source": [
    "testing_image = train_images[96]"
   ]
  },
  {
   "cell_type": "code",
   "execution_count": 94,
   "metadata": {
    "collapsed": false
   },
   "outputs": [
    {
     "data": {
      "text/plain": [
       "(216, 64, 1)"
      ]
     },
     "execution_count": 94,
     "metadata": {},
     "output_type": "execute_result"
    }
   ],
   "source": [
    "testing_image.shape"
   ]
  },
  {
   "cell_type": "code",
   "execution_count": 95,
   "metadata": {
    "collapsed": true
   },
   "outputs": [],
   "source": [
    "testing_image = np.squeeze(testing_image,axis = 2)"
   ]
  },
  {
   "cell_type": "code",
   "execution_count": 96,
   "metadata": {
    "collapsed": false
   },
   "outputs": [
    {
     "data": {
      "text/plain": [
       "(216, 64)"
      ]
     },
     "execution_count": 96,
     "metadata": {},
     "output_type": "execute_result"
    }
   ],
   "source": [
    "testing_image.shape"
   ]
  },
  {
   "cell_type": "code",
   "execution_count": 97,
   "metadata": {
    "collapsed": false
   },
   "outputs": [
    {
     "data": {
      "text/plain": [
       "<matplotlib.image.AxesImage at 0x7f09cc738bd0>"
      ]
     },
     "execution_count": 97,
     "metadata": {},
     "output_type": "execute_result"
    },
    {
     "data": {
      "image/png": "[encoded data removed]",
      "text/plain": [
       "<matplotlib.figure.Figure at 0x7f09cc797dd0>"
      ]
     },
     "metadata": {},
     "output_type": "display_data"
    }
   ],
   "source": [
    "plt.imshow(testing_image)"
   ]
  },
  {
   "cell_type": "code",
   "execution_count": 98,
   "metadata": {
    "collapsed": false
   },
   "outputs": [],
   "source": [
    "plt.show()"
   ]
  },
  {
   "cell_type": "code",
   "execution_count": 99,
   "metadata": {
    "collapsed": true
   },
   "outputs": [],
   "source": [
    "testing_image = testing_image.reshape((1,216,64,1))"
   ]
  },
  {
   "cell_type": "code",
   "execution_count": 100,
   "metadata": {
    "collapsed": true
   },
   "outputs": [],
   "source": [
    "prediction = model.predict(testing_image)"
   ]
  },
  {
   "cell_type": "code",
   "execution_count": 101,
   "metadata": {
    "collapsed": true
   },
   "outputs": [],
   "source": [
    "prediction = np.squeeze(prediction,axis = 0)"
   ]
  },
  {
   "cell_type": "code",
   "execution_count": 102,
   "metadata": {
    "collapsed": false
   },
   "outputs": [
    {
     "name": "stdout",
     "output_type": "stream",
     "text": [
      "(13824, 8)\n"
     ]
    }
   ],
   "source": [
    "print(prediction.shape)\n"
   ]
  },
  {
   "cell_type": "code",
   "execution_count": 103,
   "metadata": {
    "collapsed": false
   },
   "outputs": [
    {
     "data": {
      "text/plain": [
       "3"
      ]
     },
     "execution_count": 103,
     "metadata": {},
     "output_type": "execute_result"
    }
   ],
   "source": [
    "np.argmax(prediction[6999])"
   ]
  },
  {
   "cell_type": "code",
   "execution_count": 104,
   "metadata": {
    "collapsed": true
   },
   "outputs": [],
   "source": [
    "prediction = np.reshape(prediction,(216,64,8))"
   ]
  },
  {
   "cell_type": "code",
   "execution_count": 105,
   "metadata": {
    "collapsed": true
   },
   "outputs": [],
   "source": [
    "output = np.zeros((216,64))"
   ]
  },
  {
   "cell_type": "code",
   "execution_count": 106,
   "metadata": {
    "collapsed": true
   },
   "outputs": [],
   "source": [
    "ground = np.zeros((216,64))"
   ]
  },
  {
   "cell_type": "code",
   "execution_count": 107,
   "metadata": {
    "collapsed": true
   },
   "outputs": [],
   "source": [
    "for i in range(216):\n",
    "    for j in range(64):\n",
    "        index = np.argmax(prediction[i][j])\n",
    "        output[i][j] = index"
   ]
  },
  {
   "cell_type": "code",
   "execution_count": 108,
   "metadata": {
    "collapsed": false
   },
   "outputs": [
    {
     "data": {
      "text/plain": [
       "(13824, 8)"
      ]
     },
     "execution_count": 108,
     "metadata": {},
     "output_type": "execute_result"
    }
   ],
   "source": [
    "test_labels[0].shape"
   ]
  },
  {
   "cell_type": "code",
   "execution_count": 109,
   "metadata": {
    "collapsed": false
   },
   "outputs": [
    {
     "data": {
      "text/plain": [
       "array([ 0.,  0.,  0.,  0.,  1.,  0.,  0.,  0.], dtype=float32)"
      ]
     },
     "execution_count": 109,
     "metadata": {},
     "output_type": "execute_result"
    }
   ],
   "source": [
    "test_labels[250][6999]"
   ]
  },
  {
   "cell_type": "code",
   "execution_count": 111,
   "metadata": {
    "collapsed": true
   },
   "outputs": [],
   "source": [
    "test_ground_truth = np.reshape(train_labels[96],(216,64,8))"
   ]
  },
  {
   "cell_type": "code",
   "execution_count": 112,
   "metadata": {
    "collapsed": true
   },
   "outputs": [],
   "source": [
    "for i in range(216):\n",
    "    for j in range(64):\n",
    "        index = np.argmax(test_ground_truth[i][j])\n",
    "        ground[i][j] = index"
   ]
  },
  {
   "cell_type": "code",
   "execution_count": 113,
   "metadata": {
    "collapsed": true
   },
   "outputs": [],
   "source": [
    "for i in range(216):\n",
    "    for j in range(64):\n",
    "        index = np.argmax(prediction[i][j])\n",
    "        output[i][j] = index"
   ]
  },
  {
   "cell_type": "code",
   "execution_count": 114,
   "metadata": {
    "collapsed": false
   },
   "outputs": [
    {
     "name": "stdout",
     "output_type": "stream",
     "text": [
      "(216, 64)\n"
     ]
    }
   ],
   "source": [
    "print (output.shape)"
   ]
  },
  {
   "cell_type": "code",
   "execution_count": 115,
   "metadata": {
    "collapsed": true
   },
   "outputs": [],
   "source": [
    "color= np.zeros((216,64,3))"
   ]
  },
  {
   "cell_type": "code",
   "execution_count": 116,
   "metadata": {
    "collapsed": true
   },
   "outputs": [],
   "source": [
    "c0 = 0\n",
    "c1 = 0\n",
    "c2 = 0\n",
    "c3 = 0\n",
    "c4 = 0\n",
    "c5 = 0\n",
    "c6 = 0\n",
    "c7 = 0"
   ]
  },
  {
   "cell_type": "code",
   "execution_count": 117,
   "metadata": {
    "collapsed": true
   },
   "outputs": [],
   "source": [
    "for j in range(216):\n",
    "    for k in range(64):\n",
    "        if(output[j][k]==0):\n",
    "            c0 = c0 + 1\n",
    "            color[j][k] = [0,0,0]\n",
    "        if(output[j][k]==1):\n",
    "            c1 = c1 + 1\n",
    "            color[j][k] = [128,0,0]\n",
    "        if(output[j][k]==2):\n",
    "            c2 = c2 + 1\n",
    "            color[j][k] = [0,128,0]\n",
    "        if(output[j][k]==3):\n",
    "            c3 = c3 + 1\n",
    "            color[j][k] = [128,128,0] \n",
    "        if(output[j][k]==4):\n",
    "            c4 = c4 + 1\n",
    "            color[j][k] = [0,128,128]\n",
    "        if(output[j][k]==5):\n",
    "            c5 = c5 + 1\n",
    "            color[j][k] = [64,0,0]\n",
    "        if(output[j][k]==6):\n",
    "            c6 = c6 + 1\n",
    "            color[j][k] = [192,0,0]\n",
    "        if(output[j][k]==7):\n",
    "            c7 = c7 + 1\n",
    "            color[j][k] = [64,128,0]"
   ]
  },
  {
   "cell_type": "code",
   "execution_count": 118,
   "metadata": {
    "collapsed": false
   },
   "outputs": [
    {
     "name": "stdout",
     "output_type": "stream",
     "text": [
      "5349\n",
      "2898\n",
      "0\n",
      "1008\n",
      "824\n",
      "2165\n",
      "928\n",
      "652\n"
     ]
    }
   ],
   "source": [
    "print(c0)\n",
    "print(c1)\n",
    "print(c2)\n",
    "print(c3)\n",
    "print(c4)\n",
    "print(c5)\n",
    "print(c6)\n",
    "print(c7)\n"
   ]
  },
  {
   "cell_type": "code",
   "execution_count": 119,
   "metadata": {
    "collapsed": true
   },
   "outputs": [],
   "source": [
    "%matplotlib inline"
   ]
  },
  {
   "cell_type": "code",
   "execution_count": 120,
   "metadata": {
    "collapsed": false
   },
   "outputs": [
    {
     "data": {
      "text/plain": [
       "<matplotlib.image.AxesImage at 0x7f09cc1c30d0>"
      ]
     },
     "execution_count": 120,
     "metadata": {},
     "output_type": "execute_result"
    },
    {
     "data": {
      "image/png": "[encoded data removed]",
      "text/plain": [
       "<matplotlib.figure.Figure at 0x7f09cc775590>"
      ]
     },
     "metadata": {},
     "output_type": "display_data"
    }
   ],
   "source": [
    "plt.imshow(color)"
   ]
  },
  {
   "cell_type": "code",
   "execution_count": 121,
   "metadata": {
    "collapsed": true
   },
   "outputs": [],
   "source": [
    "plt.show()"
   ]
  },
  {
   "cell_type": "code",
   "execution_count": 122,
   "metadata": {
    "collapsed": false
   },
   "outputs": [],
   "source": [
    "imsave(\"results2.png\",color)"
   ]
  },
  {
   "cell_type": "code",
   "execution_count": 123,
   "metadata": {
    "collapsed": true
   },
   "outputs": [],
   "source": [
    "%matplotlib inline"
   ]
  },
  {
   "cell_type": "code",
   "execution_count": 124,
   "metadata": {
    "collapsed": false
   },
   "outputs": [],
   "source": [
    "plt.show()"
   ]
  },
  {
   "cell_type": "code",
   "execution_count": 125,
   "metadata": {
    "collapsed": true
   },
   "outputs": [],
   "source": [
    "color= np.zeros((216,64,3))"
   ]
  },
  {
   "cell_type": "code",
   "execution_count": 126,
   "metadata": {
    "collapsed": true
   },
   "outputs": [],
   "source": [
    "c0 = 0\n",
    "c1 = 0\n",
    "c2 = 0\n",
    "c3 = 0\n",
    "c4 = 0\n",
    "c5 = 0\n",
    "c6 = 0\n",
    "c7 = 0"
   ]
  },
  {
   "cell_type": "code",
   "execution_count": 127,
   "metadata": {
    "collapsed": false
   },
   "outputs": [],
   "source": [
    "for j in range(216):\n",
    "    for k in range(64):\n",
    "        if(ground[j][k]==0):\n",
    "            c0 = c0 + 1\n",
    "            color[j][k] = [0,0,0]\n",
    "        if(ground[j][k]==1):\n",
    "            c1 = c1 + 1\n",
    "            color[j][k] = [128,0,0]\n",
    "        if(ground[j][k]==2):\n",
    "            c2 = c2 + 1\n",
    "            color[j][k] = [0,128,0]\n",
    "        if(ground[j][k]==3):\n",
    "            c3 = c3 + 1\n",
    "            color[j][k] = [128,128,0] \n",
    "        if(ground[j][k]==4):\n",
    "            c4 = c4 + 1\n",
    "            color[j][k] = [0,128,128]\n",
    "        if(ground[j][k]==5):\n",
    "            c5 = c5 + 1\n",
    "            color[j][k] = [64,0,0]\n",
    "        if(ground[j][k]==6):\n",
    "            c6 = c6 + 1\n",
    "            color[j][k] = [192,0,0]\n",
    "        if(ground[j][k]==7):\n",
    "            c7 = c7 + 1\n",
    "            color[j][k] = [64,128,0]"
   ]
  },
  {
   "cell_type": "code",
   "execution_count": 128,
   "metadata": {
    "collapsed": false
   },
   "outputs": [
    {
     "name": "stdout",
     "output_type": "stream",
     "text": [
      "7653\n",
      "338\n",
      "921\n",
      "696\n",
      "538\n",
      "2597\n",
      "652\n",
      "429\n"
     ]
    }
   ],
   "source": [
    "print(c0)\n",
    "print(c1)\n",
    "print(c2)\n",
    "print(c3)\n",
    "print(c4)\n",
    "print(c5)\n",
    "print(c6)\n",
    "print(c7)\n"
   ]
  },
  {
   "cell_type": "code",
   "execution_count": 129,
   "metadata": {
    "collapsed": false
   },
   "outputs": [
    {
     "data": {
      "text/plain": [
       "<matplotlib.image.AxesImage at 0x7f09cc175590>"
      ]
     },
     "execution_count": 129,
     "metadata": {},
     "output_type": "execute_result"
    },
    {
     "data": {
      "image/png": "[encoded data removed]",
      "text/plain": [
       "<matplotlib.figure.Figure at 0x7f09cc6a3a50>"
      ]
     },
     "metadata": {},
     "output_type": "display_data"
    }
   ],
   "source": [
    "plt.imshow(color)"
   ]
  },
  {
   "cell_type": "code",
   "execution_count": 322,
   "metadata": {
    "collapsed": false
   },
   "outputs": [],
   "source": [
    "imsave(\"results.png\",color)"
   ]
  },
  {
   "cell_type": "code",
   "execution_count": 134,
   "metadata": {
    "collapsed": false
   },
   "outputs": [],
   "source": [
    "plt.show()"
   ]
  },
  {
   "cell_type": "code",
   "execution_count": null,
   "metadata": {
    "collapsed": true
   },
   "outputs": [],
   "source": []
  },
  {
   "cell_type": "code",
   "execution_count": null,
   "metadata": {
    "collapsed": true
   },
   "outputs": [],
   "source": []
  }
 ],
 "metadata": {
  "kernelspec": {
   "display_name": "Python [Root]",
   "language": "python",
   "name": "Python [Root]"
  },
  "language_info": {
   "codemirror_mode": {
    "name": "ipython",
    "version": 2
   },
   "file_extension": ".py",
   "mimetype": "text/x-python",
   "name": "python",
   "nbconvert_exporter": "python",
   "pygments_lexer": "ipython2",
   "version": "2.7.12"
  }
 },
 "nbformat": 4,
 "nbformat_minor": 2
}
